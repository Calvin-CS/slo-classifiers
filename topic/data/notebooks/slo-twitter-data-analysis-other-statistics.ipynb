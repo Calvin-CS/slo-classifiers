{
 "cells": [
  {
   "cell_type": "markdown",
   "metadata": {},
   "source": [
    "# SLO Twitter Data Analysis  - Nan/Non-NaN Values"
   ]
  },
  {
   "cell_type": "markdown",
   "metadata": {},
   "source": [
    "Setup the Jupyter Notebook kernel for SLO data analysis."
   ]
  },
  {
   "cell_type": "code",
   "execution_count": 1,
   "metadata": {},
   "outputs": [
    {
     "name": "stderr",
     "output_type": "stream",
     "text": [
      "d:\\dropbox\\cs344-ai\\venv3.6-64bit\\lib\\site-packages\\IPython\\core\\interactiveshell.py:3209: DtypeWarning: Columns (36) have mixed types. Specify dtype option on import or set low_memory=False.\n",
      "  if (yield from self.run_code(code, result)):\n"
     ]
    }
   ],
   "source": [
    "import logging as log\n",
    "import warnings\n",
    "import time\n",
    "from matplotlib import pyplot as plt\n",
    "import pandas as pd\n",
    "import seaborn as sns\n",
    "\n",
    "# Import custom utility functions.\n",
    "import slo_twitter_data_analysis_utility_functions as tweet_util_v2\n",
    "\n",
    "#############################################################\n",
    "# Adjust parameters to display all contents.\n",
    "pd.options.display.max_rows = None\n",
    "pd.options.display.max_columns = None\n",
    "pd.options.display.width = None\n",
    "pd.options.display.max_colwidth = 1000\n",
    "# Seaborn setting.\n",
    "sns.set()\n",
    "# Set level of precision for float value output.\n",
    "pd.set_option('precision', 12)\n",
    "# Ignore these types of warnings - don't output to console.\n",
    "warnings.simplefilter(action='ignore', category=FutureWarning)\n",
    "warnings.simplefilter(action='ignore', category=DeprecationWarning)\n",
    "warnings.simplefilter(action='ignore', category=UserWarning)\n",
    "# Matplotlib log settings.\n",
    "mylog = log.getLogger(\"matplotlib\")\n",
    "mylog.setLevel(log.INFO)\n",
    "\n",
    "\"\"\"\n",
    "Turn debug log statements for various sections of code on/off.\n",
    "(adjust log level as necessary)\n",
    "\"\"\"\n",
    "log.basicConfig(level=log.INFO)\n",
    "\n",
    "\n",
    "# Import CSV dataset and convert to dataframe.\n",
    "tweet_dataframe = tweet_util_v2.import_dataset(\n",
    "    \"D:/Dropbox/summer-research-2019/jupyter-notebooks/attribute-datasets/\"\n",
    "    \"twitter-dataset-6-27-19.csv\",\n",
    "    \"csv\", False)"
   ]
  },
  {
   "cell_type": "markdown",
   "metadata": {},
   "source": [
    "## NaN versus non-Nan Counts for each Attribute in the Twitter dataset:"
   ]
  },
  {
   "cell_type": "markdown",
   "metadata": {},
   "source": [
    "\n",
    "This function displays statistics that count the # of rows/examples in the dataset that are NaN or non-Nan using the Pandas \".isnull().sum()\" function chain.<br>\n",
    "\n"
   ]
  },
  {
   "cell_type": "code",
   "execution_count": 2,
   "metadata": {
    "pycharm": {
     "name": "#%%\n"
    }
   },
   "outputs": [],
   "source": [
    "def count_nan_non_nan(input_file_path, attribute_name_list, file_type):\n",
    "    \"\"\"\n",
    "    Function counts the number of NaN and non-Nan examples in a Pandas dataframe for the specified columns.\n",
    "\n",
    "    :param input_file_path: absolute file path of the dataset in CSV or JSON format.\n",
    "    :param attribute_name_list:  list of names of the attributes we are analyzing.\n",
    "    :param file_type: type of input file. (JSON or CSV)\n",
    "    :return: None.\n",
    "    \"\"\"\n",
    "    start_time = time.time()\n",
    "\n",
    "    if file_type == \"csv\":\n",
    "        twitter_data = pd.read_csv(f\"{input_file_path}\", sep=\",\", encoding=\"ISO-8859-1\", dtype=object)\n",
    "    elif file_type == \"json\":\n",
    "        twitter_data = pd.read_json(f\"{input_file_path}\", orient='records', lines=True)\n",
    "    else:\n",
    "        print(f\"Invalid file type entered - aborting operation\")\n",
    "        return\n",
    "\n",
    "    # Create a empty Pandas dataframe.\n",
    "    dataframe = pd.DataFrame(twitter_data)\n",
    "\n",
    "    number_examples = dataframe.shape[0]\n",
    "    number_attributes = dataframe.shape[1]\n",
    "    print(f\"\\nThe number of rows (examples) in the dataframe is {number_examples}\")\n",
    "    print(f\"The number of columns (attributes) in the dataframe is {number_attributes}\\n\")\n",
    "\n",
    "    for attribute_name in attribute_name_list:\n",
    "        null_examples = dataframe[attribute_name].isnull().sum()\n",
    "        non_null_examples = number_examples - null_examples\n",
    "\n",
    "        print(f\"The number of NaN rows for \\\"{attribute_name}\\\" is {null_examples}\")\n",
    "        print(f\"The number of non-NaN rows for \\\"{attribute_name}\\\" is {non_null_examples}\\n\")\n",
    "\n",
    "    end_time = time.time()\n",
    "    time_elapsed_seconds = end_time - start_time\n",
    "    time_elapsed_minutes = (end_time - start_time) / 60.0\n",
    "    time_elapsed_hours = (end_time - start_time) / 60.0 / 60.0\n",
    "    log.debug(f\"The time taken to visualize the statistics is {time_elapsed_seconds} seconds, \"\n",
    "              f\"{time_elapsed_minutes} minutes, {time_elapsed_hours} hours\")"
   ]
  },
  {
   "cell_type": "markdown",
   "metadata": {},
   "source": [
    "\n",
    "The usual data analysis function call.<br>\n",
    "\n"
   ]
  },
  {
   "cell_type": "code",
   "execution_count": 4,
   "metadata": {
    "pycharm": {
     "name": "#%%\n"
    }
   },
   "outputs": [
    {
     "name": "stdout",
     "output_type": "stream",
     "text": [
      "\n",
      "The number of rows (examples) in the dataframe is 670423\n",
      "The number of columns (attributes) in the dataframe is 37\n",
      "\n",
      "The number of NaN rows for \"retweeted_derived\" is 0\n",
      "The number of non-NaN rows for \"retweeted_derived\" is 670423\n",
      "\n",
      "The number of NaN rows for \"company_derived\" is 1057\n",
      "The number of non-NaN rows for \"company_derived\" is 669366\n",
      "\n",
      "The number of NaN rows for \"text_derived\" is 0\n",
      "The number of non-NaN rows for \"text_derived\" is 670423\n",
      "\n",
      "The number of NaN rows for \"tweet_url_link_derived\" is 0\n",
      "The number of non-NaN rows for \"tweet_url_link_derived\" is 670423\n",
      "\n",
      "The number of NaN rows for \"multiple_companies_derived_count\" is 0\n",
      "The number of non-NaN rows for \"multiple_companies_derived_count\" is 670423\n",
      "\n",
      "The number of NaN rows for \"company_derived_designation\" is 1057\n",
      "The number of non-NaN rows for \"company_derived_designation\" is 669366\n",
      "\n",
      "The number of NaN rows for \"tweet_text_length_derived\" is 0\n",
      "The number of non-NaN rows for \"tweet_text_length_derived\" is 670423\n",
      "\n",
      "The number of NaN rows for \"spaCy_language_detect_all_tweets\" is 0\n",
      "The number of non-NaN rows for \"spaCy_language_detect_all_tweets\" is 670423\n",
      "\n",
      "The number of NaN rows for \"user_description_text_length\" is 0\n",
      "The number of non-NaN rows for \"user_description_text_length\" is 670423\n",
      "\n",
      "The number of NaN rows for \"tweet_created_at\" is 0\n",
      "The number of non-NaN rows for \"tweet_created_at\" is 670423\n",
      "\n",
      "The number of NaN rows for \"tweet_id\" is 0\n",
      "The number of non-NaN rows for \"tweet_id\" is 670423\n",
      "\n",
      "The number of NaN rows for \"tweet_full_text\" is 0\n",
      "The number of non-NaN rows for \"tweet_full_text\" is 670423\n",
      "\n",
      "The number of NaN rows for \"tweet_in_reply_to_status_id\" is 630911\n",
      "The number of non-NaN rows for \"tweet_in_reply_to_status_id\" is 39512\n",
      "\n",
      "The number of NaN rows for \"tweet_in_reply_to_user_id\" is 623410\n",
      "The number of non-NaN rows for \"tweet_in_reply_to_user_id\" is 47013\n",
      "\n",
      "The number of NaN rows for \"tweet_in_reply_to_screen_name\" is 623410\n",
      "The number of non-NaN rows for \"tweet_in_reply_to_screen_name\" is 47013\n",
      "\n",
      "The number of NaN rows for \"tweet_retweet_count\" is 0\n",
      "The number of non-NaN rows for \"tweet_retweet_count\" is 670423\n",
      "\n",
      "The number of NaN rows for \"tweet_favorite_count\" is 0\n",
      "The number of non-NaN rows for \"tweet_favorite_count\" is 670423\n",
      "\n",
      "The number of NaN rows for \"tweet_lang\" is 0\n",
      "The number of non-NaN rows for \"tweet_lang\" is 670423\n",
      "\n",
      "The number of NaN rows for \"user_id\" is 0\n",
      "The number of non-NaN rows for \"user_id\" is 670423\n",
      "\n",
      "The number of NaN rows for \"user_name\" is 0\n",
      "The number of non-NaN rows for \"user_name\" is 670423\n",
      "\n",
      "The number of NaN rows for \"user_screen_name\" is 0\n",
      "The number of non-NaN rows for \"user_screen_name\" is 670423\n",
      "\n",
      "The number of NaN rows for \"user_location\" is 92389\n",
      "The number of non-NaN rows for \"user_location\" is 578034\n",
      "\n",
      "The number of NaN rows for \"user_description\" is 44992\n",
      "The number of non-NaN rows for \"user_description\" is 625431\n",
      "\n",
      "The number of NaN rows for \"user_followers_count\" is 0\n",
      "The number of non-NaN rows for \"user_followers_count\" is 670423\n",
      "\n",
      "The number of NaN rows for \"user_friends_count\" is 0\n",
      "The number of non-NaN rows for \"user_friends_count\" is 670423\n",
      "\n",
      "The number of NaN rows for \"user_listed_count\" is 0\n",
      "The number of non-NaN rows for \"user_listed_count\" is 670423\n",
      "\n",
      "The number of NaN rows for \"user_favourites_count\" is 0\n",
      "The number of non-NaN rows for \"user_favourites_count\" is 670423\n",
      "\n",
      "The number of NaN rows for \"user_statuses_count\" is 0\n",
      "The number of non-NaN rows for \"user_statuses_count\" is 670423\n",
      "\n",
      "The number of NaN rows for \"user_created_at\" is 0\n",
      "The number of non-NaN rows for \"user_created_at\" is 670423\n",
      "\n",
      "The number of NaN rows for \"user_time_zone\" is 22\n",
      "The number of non-NaN rows for \"user_time_zone\" is 670401\n",
      "\n",
      "The number of NaN rows for \"user_lang\" is 0\n",
      "The number of non-NaN rows for \"user_lang\" is 670423\n",
      "\n",
      "The number of NaN rows for \"tweet_entities_expanded_urls\" is 415325\n",
      "The number of non-NaN rows for \"tweet_entities_expanded_urls\" is 255098\n",
      "\n",
      "The number of NaN rows for \"tweet_entities_hashtags\" is 303206\n",
      "The number of non-NaN rows for \"tweet_entities_hashtags\" is 367217\n",
      "\n",
      "The number of NaN rows for \"tweet_entities_user_mentions_id\" is 0\n",
      "The number of non-NaN rows for \"tweet_entities_user_mentions_id\" is 670423\n",
      "\n",
      "The number of NaN rows for \"tweet_entities_user_mentions_name\" is 135073\n",
      "The number of non-NaN rows for \"tweet_entities_user_mentions_name\" is 535350\n",
      "\n",
      "The number of NaN rows for \"tweet_entities_user_mentions_screen_name\" is 135073\n",
      "The number of non-NaN rows for \"tweet_entities_user_mentions_screen_name\" is 535350\n",
      "\n",
      "The number of NaN rows for \"tweet_entities_symbols\" is 659083\n",
      "The number of non-NaN rows for \"tweet_entities_symbols\" is 11340\n",
      "\n"
     ]
    }
   ],
   "source": [
    "    # Original Tweet object attribute names present in raw JSON file.\n",
    "original_tweet_object_field_names = [\n",
    "    'created_at', 'id', 'full_text', 'in_reply_to_status_id', 'in_reply_to_user_id',\n",
    "    'in_reply_to_screen_name', 'retweet_count', 'favorite_count', 'lang']\n",
    "\n",
    "# Names to rename main Tweet object attributes.\n",
    "tweet_object_fields = [\n",
    "    'tweet_created_at', 'tweet_id', 'tweet_full_text', 'tweet_in_reply_to_status_id',\n",
    "    'tweet_in_reply_to_user_id', 'tweet_in_reply_to_screen_name', 'tweet_retweet_count',\n",
    "    'tweet_favorite_count', 'tweet_lang']\n",
    "\n",
    "# Names to give \"user\" object attributes.\n",
    "user_object_fields = [\n",
    "    'user_id', 'user_name', 'user_screen_name', 'user_location', 'user_description',\n",
    "    'user_followers_count', 'user_friends_count', 'user_listed_count', 'user_favourites_count',\n",
    "    'user_statuses_count', 'user_created_at', 'user_time_zone', 'user_lang']\n",
    "\n",
    "# Names to give \"entities\" object attributes.\n",
    "entities_object_fields = [\n",
    "    \"tweet_entities_expanded_urls\", \"tweet_entities_hashtags\", \"tweet_entities_user_mentions_id\",\n",
    "    \"tweet_entities_user_mentions_name\", \"tweet_entities_user_mentions_screen_name\",\n",
    "    \"tweet_entities_symbols\"]\n",
    "\n",
    "# Names to give \"retweeted_status\" object attributes.\n",
    "retweeted_status_object_fields = [\n",
    "    'retweeted_status_created_at', 'retweeted_status_id', 'retweeted_status_full_text',\n",
    "    'retweeted_status_in_reply_to_status_id', 'retweeted_status_in_reply_to_user_id',\n",
    "    'retweeted_status_in_reply_to_screen_name', 'retweeted_status_retweet_count',\n",
    "    'retweeted_status_favorite_count', 'retweeted_status_lang',\n",
    "    'retweeted_status_entities',\n",
    "    'retweeted_status_user', 'retweeted_status_coordinates', 'retweeted_status_place']\n",
    "\n",
    "# Names to give \"user\" object attributes.\n",
    "retweeted_status_user_object_fields = [\n",
    "    'retweeted_status_user_id', 'retweeted_status_user_name', 'retweeted_status_user_screen_name',\n",
    "    'retweeted_status_user_location', 'retweeted_status_user_description', 'retweeted_status_user_followers_count',\n",
    "    'retweeted_status_user_friends_count', 'retweeted_status_user_listed_count',\n",
    "    'retweeted_status_user_favourites_count', 'retweeted_status_user_statuses_count',\n",
    "    'retweeted_status_user_created_at', 'retweeted_status_user_time_zone', 'retweeted_status_user_lang']\n",
    "\n",
    "required_fields = ['retweeted_derived', 'company_derived', 'text_derived',  # \"tweet_quoted_status_id\",\n",
    "                   'tweet_url_link_derived', 'multiple_companies_derived_count', \"company_derived_designation\",\n",
    "                   'tweet_text_length_derived', \"spaCy_language_detect_all_tweets\",\n",
    "                   \"user_description_text_length\",  # \"polyglot_lang_detect_all_tweets\"\n",
    "                   ] + tweet_object_fields + user_object_fields + entities_object_fields\n",
    "    \n",
    "    # Determine the number of NaN and non-NaN rows for a attribute in a dataset.\n",
    "    count_nan_non_nan(\n",
    "        \"D:/Dropbox/summer-research-2019/jupyter-notebooks/attribute-datasets/twitter-dataset-6-27-19.csv\",\n",
    "        required_fields, \"csv\")"
   ]
  },
  {
   "cell_type": "markdown",
   "metadata": {},
   "source": [
    "\n",
    "The attribute name is in double quotations.  Each pair of lines in between a blank line is the statistics for a single attribute.<br>\n",
    "\n"
   ]
  },
  {
   "cell_type": "code",
   "execution_count": null,
   "metadata": {
    "pycharm": {
     "name": "#%%\n"
    }
   },
   "outputs": [],
   "source": []
  }
 ],
 "metadata": {
  "kernelspec": {
   "display_name": "Python 3",
   "language": "python",
   "name": "python3"
  },
  "language_info": {
   "codemirror_mode": {
    "name": "ipython",
    "version": 3
   },
   "file_extension": ".py",
   "mimetype": "text/x-python",
   "name": "python",
   "nbconvert_exporter": "python",
   "pygments_lexer": "ipython3",
   "version": "3.6.6"
  },
  "pycharm": {
   "stem_cell": {
    "cell_type": "raw",
    "metadata": {
     "collapsed": false
    },
    "source": []
   }
  }
 },
 "nbformat": 4,
 "nbformat_minor": 1
}
