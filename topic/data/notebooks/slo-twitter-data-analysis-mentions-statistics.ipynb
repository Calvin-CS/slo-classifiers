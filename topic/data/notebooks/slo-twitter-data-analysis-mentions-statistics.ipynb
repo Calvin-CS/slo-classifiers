{
 "cells": [
  {
   "cell_type": "markdown",
   "metadata": {},
   "source": [
    "# SLO Twitter Data Analysis  - Tweet @User Mentions Statistics"
   ]
  },
  {
   "cell_type": "markdown",
   "metadata": {},
   "source": [
    "Setup the Jupyter Notebook kernel for SLO data analysis."
   ]
  },
  {
   "cell_type": "code",
   "execution_count": 1,
   "metadata": {},
   "outputs": [],
   "source": [
    "import logging as log\n",
    "import warnings\n",
    "import time\n",
    "from matplotlib import pyplot as plt\n",
    "import pandas as pd\n",
    "import seaborn as sns\n",
    "\n",
    "# Import custom utility functions.\n",
    "import slo_twitter_data_analysis_utility_functions as tweet_util_v2\n",
    "\n",
    "#############################################################\n",
    "# Adjust parameters to display all contents.\n",
    "pd.options.display.max_rows = None\n",
    "pd.options.display.max_columns = None\n",
    "pd.options.display.width = None\n",
    "pd.options.display.max_colwidth = 1000\n",
    "# Seaborn setting.\n",
    "sns.set()\n",
    "# Set level of precision for float value output.\n",
    "pd.set_option('precision', 12)\n",
    "# Ignore these types of warnings - don't output to console.\n",
    "warnings.simplefilter(action='ignore', category=FutureWarning)\n",
    "warnings.simplefilter(action='ignore', category=DeprecationWarning)\n",
    "warnings.simplefilter(action='ignore', category=UserWarning)\n",
    "# Matplotlib log settings.\n",
    "mylog = log.getLogger(\"matplotlib\")\n",
    "mylog.setLevel(log.INFO)\n",
    "\n",
    "\"\"\"\n",
    "Turn debug log statements for various sections of code on/off.\n",
    "(adjust log level as necessary)\n",
    "\"\"\"\n",
    "log.basicConfig(level=log.INFO)\n",
    "\n",
    "\n",
    "# Import CSV dataset and convert to dataframe.\n",
    "tweet_dataframe = tweet_util_v2.import_dataset(\n",
    "    \"D:/Dropbox/summer-research-2019/jupyter-notebooks/attribute-datasets/\"\n",
    "    \"twitter-dataset-7-10-19-with-irrelevant-tweets-excluded.csv\",\n",
    "    \"csv\", False)"
   ]
  },
  {
   "cell_type": "markdown",
   "metadata": {},
   "source": [
    "## Tweets with User Mentions and are Replies to other Tweets:"
   ]
  },
  {
   "cell_type": "markdown",
   "metadata": {},
   "source": [
    "\n",
    "Percent stats for entire dataset.<br>\n",
    "\n"
   ]
  },
  {
   "cell_type": "code",
   "execution_count": 2,
   "metadata": {
    "pycharm": {
     "name": "#%%\n"
    },
    "scrolled": true
   },
   "outputs": [
    {
     "name": "stdout",
     "output_type": "stream",
     "text": [
      "Percentage of Tweets with User Mentions:\n",
      "(Number of Tweets with User Mentions divided by Number of Tweets in Dataset)\n",
      "0.8036564836286201\n",
      "Percentage of Tweets that are Replies to Other Tweets:\n",
      "(Number of Tweets that are Replies to Another Tweet divided by Number of Tweets in Dataset)\n",
      "0.056738433712485756\n"
     ]
    }
   ],
   "source": [
    "    print(\"Percentage of Tweets with User Mentions:\")\n",
    "    print(f\"(Number of Tweets with User Mentions divided by Number of Tweets in Dataset)\")\n",
    "    print(tweet_dataframe['tweet_entities_user_mentions_name'].count() / len(tweet_dataframe))\n",
    "\n",
    "    print(\"Percentage of Tweets that are Replies to Other Tweets:\")\n",
    "    print(f\"(Number of Tweets that are Replies to Another Tweet divided by Number of Tweets in Dataset)\")\n",
    "    print(tweet_dataframe['tweet_in_reply_to_status_id'].count() / len(tweet_dataframe))"
   ]
  },
  {
   "cell_type": "markdown",
   "metadata": {},
   "source": [
    "\n",
    "Nearly 80% Tweets have user mentions; very few Tweets are replies to other Tweets.\n",
    "\n"
   ]
  },
  {
   "cell_type": "markdown",
   "metadata": {},
   "source": [
    "## Graph of User Mentions Count by Associated Tweets for a Given Company:"
   ]
  },
  {
   "cell_type": "markdown",
   "metadata": {},
   "source": [
    "\n",
    "Code computes the # of user mentions for every Tweet and the percentage of all Tweets associated with a particular company that have that # of user mentions.<br>\n",
    "\n"
   ]
  },
  {
   "cell_type": "code",
   "execution_count": 3,
   "metadata": {
    "pycharm": {
     "name": "#%%\n"
    }
   },
   "outputs": [
    {
     "name": "stdout",
     "output_type": "stream",
     "text": [
      "\n",
      "User Mentions Count by Percentage of All Tweets for a Given Company:\n"
     ]
    },
    {
     "data": {
      "text/plain": [
       "<Figure size 432x288 with 0 Axes>"
      ]
     },
     "metadata": {},
     "output_type": "display_data"
    },
    {
     "data": {
      "image/png": "[encoded data removed]",
      "text/plain": [
       "<Figure size 1296x432 with 12 Axes>"
      ]
     },
     "metadata": {
      "needs_background": "light"
     },
     "output_type": "display_data"
    }
   ],
   "source": [
    "    #######################################################\n",
    "    def compute_number_of_mentions(row):\n",
    "        \"\"\"\n",
    "        Helper function to compute # of mentions because Shuntaro's method does not work on our dataset.\n",
    "\n",
    "        :param row: string containing contents of field \"tweet_entities_user_mentions_id\"\n",
    "        :return:\n",
    "        \"\"\"\n",
    "        if row == \"[]\":\n",
    "            return 0\n",
    "        elif row.count(',') == 0:\n",
    "            return 1\n",
    "        count = row.count(',')\n",
    "        return count + 1\n",
    "\n",
    "    print(f\"\\nUser Mentions Count by Percentage of All Tweets for a Given Company:\")\n",
    "    tweet_dataframe[\"#mentions\"] = tweet_dataframe['tweet_entities_user_mentions_id'].apply(\n",
    "        lambda x: compute_number_of_mentions(x))\n",
    "    # print(tweet_dataframe[\"num_mentions\"].head(10))\n",
    "    #######################################################\n",
    "\n",
    "    # print(f\"\\nUser Mentions Count by Percentage of All Tweets for a Given Company:\")\n",
    "    # tweet_dataframe['#mentions'] = tweet_dataframe['tweet_entities_user_mentions_id']. \\\n",
    "    #     apply(lambda x: len(x) if isinstance(x, list) else 0)\n",
    "\n",
    "    plt.figure()\n",
    "    grid = sns.FacetGrid(tweet_dataframe[['#mentions', 'company_derived_designation']],\n",
    "                         col='company_derived_designation', col_wrap=6, ylim=(0, 1), xlim=(-1, 10))\n",
    "    grid.map_dataframe(tweet_util_v2.bar_plot, '#mentions')\n",
    "    grid.set_titles('{col_name}')\n",
    "    grid.set_xlabels(\"Number of Mentions\").set_ylabels(\"Percentage of All Tweets\")\n",
    "    plt.show()"
   ]
  },
  {
   "cell_type": "markdown",
   "metadata": {},
   "source": [
    "\n",
    "Most Tweets have either no user mentions or one user mention.  Having multiple user mentions is rarer.<br>\n",
    "\n"
   ]
  },
  {
   "cell_type": "markdown",
   "metadata": {},
   "source": [
    "## Statistics for Most Mentioned Users by Company:"
   ]
  },
  {
   "cell_type": "markdown",
   "metadata": {},
   "source": [
    "\n",
    "Left column displays the company name.  Middle column displays the @user ID.  Right column displays the user mentions count.\n",
    "\n"
   ]
  },
  {
   "cell_type": "code",
   "execution_count": 4,
   "metadata": {},
   "outputs": [
    {
     "name": "stdout",
     "output_type": "stream",
     "text": [
      "Mention Counts for Top (Most) Mentioned Users by Company they are Associated With\n",
      "Top (highest) Mentions Count for a Given Company by the ID of the User that has been Mentioned\n",
      "company_derived_designation   \n",
      "adani                        2    0.095482832520\n",
      "                             8    0.093372297307\n",
      "                             1    0.088243143073\n",
      "                             3    0.088195703170\n",
      "                             4    0.086687474569\n",
      "bhp                          2    0.098039307062\n",
      "                             [    0.097924355963\n",
      "                             ]    0.097924355963\n",
      "                             1    0.087797785483\n",
      "                             0    0.077660341249\n",
      "cuesta                       1    0.109749303621\n",
      "                             8    0.095264623955\n",
      "                             2    0.089693593315\n",
      "                             7    0.082451253482\n",
      "                             6    0.076323119777\n",
      "fortescue                    7    0.105139686807\n",
      "                             8    0.100088187197\n",
      "                             ]    0.099711465192\n",
      "                             [    0.099711465192\n",
      "                             0    0.090361909981\n",
      "iluka                        ]    0.167042762044\n",
      "                             [    0.167042762044\n",
      "                             1    0.088175561322\n",
      "                             2    0.075313099402\n",
      "                             0    0.069220354282\n",
      "multiple                     2    0.101154366691\n",
      "                             9    0.090422737043\n",
      "                             8    0.085502746597\n",
      "                             3    0.085319640156\n",
      "                             4    0.081697317093\n",
      "newmont                      [    0.114817688130\n",
      "                             ]    0.114817688130\n",
      "                             8    0.088182053271\n",
      "                             4    0.081070597362\n",
      "                             7    0.080424101371\n",
      "oilsearch                    ]    0.107098552722\n",
      "                             [    0.107098552722\n",
      "                             2    0.085596140593\n",
      "                             1    0.084562370779\n",
      "                             5    0.084562370779\n",
      "riotinto                     ]    0.103772813167\n",
      "                             [    0.103772813167\n",
      "                             2    0.091072699459\n",
      "                             1    0.085362761058\n",
      "                             4    0.083468992090\n",
      "santos                       2    0.116487432236\n",
      "                             3    0.098492139636\n",
      "                             9    0.096558985324\n",
      "                             1    0.087231609975\n",
      "                             7    0.080756108278\n",
      "whitehaven                   1    0.101990393804\n",
      "                             2    0.101323995373\n",
      "                             ]    0.092528793442\n",
      "                             [    0.092528793442\n",
      "                             9    0.075359603682\n",
      "woodside                     2    0.100552777047\n",
      "                             3    0.091539878916\n",
      "                             4    0.083053435115\n",
      "                             1    0.082263753619\n",
      "                             ]    0.081173993156\n",
      "dtype: float64\n"
     ]
    }
   ],
   "source": [
    "    # FIXME - this last part is functioning incorrectly.  Adjust lambda function.\n",
    "    print(f\"Mention Counts for Top (Most) Mentioned Users by Company they are Associated With\")\n",
    "    print(f\"Top (highest) Mentions Count for a Given Company by the ID of the User that has been Mentioned\")\n",
    "    print(\n",
    "        tweet_dataframe[['company_derived_designation', 'tweet_entities_user_mentions_id']].groupby(\n",
    "            'company_derived_designation').apply(\n",
    "            lambda x: pd.Series([mention\n",
    "                                 for mentions in x['tweet_entities_user_mentions_id'] if\n",
    "                                 mentions is not None\n",
    "                                 for mention in mentions]).value_counts(normalize=True).head()))"
   ]
  },
  {
   "cell_type": "markdown",
   "metadata": {},
   "source": [
    "\n",
    "**FIXME: Code is not intepreting list of user mentions ID's correctly.  Modify lambda function to fix.**\n",
    "\n"
   ]
  },
  {
   "cell_type": "code",
   "execution_count": null,
   "metadata": {},
   "outputs": [],
   "source": []
  }
 ],
 "metadata": {
  "kernelspec": {
   "display_name": "Python 3",
   "language": "python",
   "name": "python3"
  },
  "language_info": {
   "codemirror_mode": {
    "name": "ipython",
    "version": 3
   },
   "file_extension": ".py",
   "mimetype": "text/x-python",
   "name": "python",
   "nbconvert_exporter": "python",
   "pygments_lexer": "ipython3",
   "version": "3.6.8"
  },
  "pycharm": {
   "stem_cell": {
    "cell_type": "raw",
    "metadata": {
     "collapsed": false
    },
    "source": []
   }
  }
 },
 "nbformat": 4,
 "nbformat_minor": 1
}
