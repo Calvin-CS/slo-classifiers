{
 "cells": [
  {
   "cell_type": "markdown",
   "metadata": {},
   "source": [
    "# SLO Twitter Data Analysis  - Codebase Introduction"
   ]
  },
  {
   "cell_type": "markdown",
   "metadata": {},
   "source": [
    "    \n",
    "The following sections provides an introduction to how we have set up out codebase for twitter data analysis..<br>\n",
    "\n"
   ]
  },
  {
   "cell_type": "markdown",
   "metadata": {},
   "source": [
    "## Import libraries and set parameters:"
   ]
  },
  {
   "cell_type": "markdown",
   "metadata": {},
   "source": [
    "\n",
    "We import the required libraries as well as our dataset creator and custom utility functions for data analysis.<br>\n",
    "\n"
   ]
  },
  {
   "cell_type": "code",
   "execution_count": 2,
   "metadata": {
    "pycharm": {
     "name": "#%%\n"
    }
   },
   "outputs": [],
   "source": [
    "import logging as log\n",
    "import warnings\n",
    "import time\n",
    "from matplotlib import pyplot as plt\n",
    "import pandas as pd\n",
    "import seaborn as sns\n",
    "\n",
    "# Import custom utility functions.\n",
    "# import dataset_processor_adapted as dataset_create\n",
    "import slo_twitter_data_analysis_utility_functions as tweet_util_v2"
   ]
  },
  {
   "cell_type": "markdown",
   "metadata": {},
   "source": [
    "\n",
    "Pandas settings alters the maximum number of rows, columns, the column width, and overall display width.  We also specify the number of decimal places to display for floating point values and filter out several warning types to reduce potential output clutter.  Last, we set the log level for matplotlib to avoid extraneous debug output.<br>\n",
    "\n"
   ]
  },
  {
   "cell_type": "code",
   "execution_count": 3,
   "metadata": {
    "pycharm": {
     "name": "#%%\n"
    }
   },
   "outputs": [],
   "source": [
    "# Adjust parameters to display all contents.\n",
    "pd.options.display.max_rows = None\n",
    "pd.options.display.max_columns = None\n",
    "pd.options.display.width = None\n",
    "pd.options.display.max_colwidth = 1000\n",
    "# Seaborn setting.\n",
    "sns.set()\n",
    "# Set level of precision for float value output.\n",
    "pd.set_option('precision', 12)\n",
    "# Ignore these types of warnings - don't output to console.\n",
    "warnings.simplefilter(action='ignore', category=FutureWarning)\n",
    "warnings.simplefilter(action='ignore', category=DeprecationWarning)\n",
    "warnings.simplefilter(action='ignore', category=UserWarning)\n",
    "# Matplotlib log settings.\n",
    "mylog = log.getLogger(\"matplotlib\")\n",
    "mylog.setLevel(log.INFO)"
   ]
  },
  {
   "cell_type": "markdown",
   "metadata": {},
   "source": [
    "\n",
    "Change log levels between \"INFO\" and \"DEBUG\" depending on whether you wish to see log output or not.  This affects basic Python interpreter log statements but not necessarily the log output for matplotlib and other libraries that have their own logger.<br>\n",
    "\n"
   ]
  },
  {
   "cell_type": "code",
   "execution_count": 4,
   "metadata": {
    "pycharm": {
     "name": "#%%\n"
    }
   },
   "outputs": [],
   "source": [
    "\"\"\"\n",
    "Turn debug log statements for various sections of code on/off.\n",
    "(adjust log level as necessary)\n",
    "\"\"\"\n",
    "log.basicConfig(level=log.INFO)"
   ]
  },
  {
   "cell_type": "markdown",
   "metadata": {},
   "source": [
    "## Dataset Creation:"
   ]
  },
  {
   "cell_type": "markdown",
   "metadata": {},
   "source": [
    "\n",
    "We create out dataset using the function call below and \"dataset_processor_adapted_v2.py\".\n",
    "\n",
    "Note: Don't execute this function call unless you have approximately 51 hours of free computational time.<br>\n",
    "\n"
   ]
  },
  {
   "cell_type": "code",
   "execution_count": null,
   "metadata": {
    "pycharm": {
     "name": "#%%\n"
    }
   },
   "outputs": [],
   "source": [
    "    # Absolute file path.\n",
    "    dataset_create.create_dataset(\"D:/Dropbox/summer-research-2019/json/dataset_slo_20100101-20180510.json\",\n",
    "                   \"D:/Dropbox/summer-research-2019/jupyter-notebooks/attribute-datasets/twitter-dataset-6-25-19\",\n",
    "                   False)"
   ]
  },
  {
   "cell_type": "markdown",
   "metadata": {},
   "source": [
    "\n",
    "Currently, we have extracted the following fields in the Lists below and derived additional fields from them.  Anything with the \"derived\" prefix indicates a field we have derived from the native fields present in the JSON structure.  Anything with the \"tweet\" prefix indicates a renamed attribute that is present in the main Tweet object.  Anything with the \"user\" prefix is a nested attribute we have extracted from the \"user\" object in the main Tweet object of the JSON file structure.  Anything with the \"entities\" prefix is a nested attribute we have extracted from the \"entities\" object in the main Tweet object of the JSON file structure.  Anything with the \"retweeted_status\" prefix is a nested attribute we have extracted from the \"retweeted_status\" object in the main Tweet object of the JSON file structure.  Anything with the \"retweeted_status_user\" prefix is a nested atributes we have extracted from the \"user\" object in the \"retweeted_user\" sub-object present in the main Tweet object of the JSON file structure.<br>\n",
    "\n",
    "Note: Modified copy/paste from \"dataset_processor_v2.py\"\n",
    "\n"
   ]
  },
  {
   "cell_type": "code",
   "execution_count": null,
   "metadata": {},
   "outputs": [],
   "source": [
    "tweet_object_fields = [\n",
    "    'tweet_created_at', 'tweet_id', 'tweet_full_text', 'tweet_in_reply_to_status_id',\n",
    "    'tweet_in_reply_to_user_id', 'tweet_in_reply_to_screen_name', 'tweet_retweet_count',\n",
    "    'tweet_favorite_count', 'tweet_lang']\n",
    "\n",
    "user_object_fields = [\n",
    "    'user_id', 'user_name', 'user_screen_name', 'user_location', 'user_description',\n",
    "    'user_followers_count', 'user_friends_count', 'user_listed_count', 'user_favourites_count',\n",
    "    'user_statuses_count', 'user_created_at', 'user_time_zone', 'user_lang']\n",
    "\n",
    "entities_object_fields = [\n",
    "    \"tweet_entities_expanded_urls\", \"tweet_entities_hashtags\", \"tweet_entities_user_mentions_id\",\n",
    "    \"tweet_entities_user_mentions_name\", \"tweet_entities_user_mentions_screen_name\",\n",
    "    \"tweet_entities_symbols\"]\n",
    "\n",
    "retweeted_status_object_fields = [\n",
    "    'retweeted_status_created_at', 'retweeted_status_id', 'retweeted_status_full_text',\n",
    "    'retweeted_status_in_reply_to_status_id', 'retweeted_status_in_reply_to_user_id',\n",
    "    'retweeted_status_in_reply_to_screen_name', 'retweeted_status_retweet_count',\n",
    "    'retweeted_status_favorite_count', 'retweeted_status_lang',\n",
    "    'retweeted_status_entities',\n",
    "    'retweeted_status_user', 'retweeted_status_coordinates', 'retweeted_status_place']\n",
    "\n",
    "retweeted_status_user_object_fields = [\n",
    "    'retweeted_status_user_id', 'retweeted_status_user_name', 'retweeted_status_user_screen_name',\n",
    "    'retweeted_status_user_location', 'retweeted_status_user_description', 'retweeted_status_user_followers_count',\n",
    "    'retweeted_status_user_friends_count', 'retweeted_status_user_listed_count',\n",
    "    'retweeted_status_user_favourites_count', 'retweeted_status_user_statuses_count',\n",
    "    'retweeted_status_user_created_at', 'retweeted_status_user_time_zone', 'retweeted_status_user_lang']\n",
    "\n",
    "required_fields = \\\n",
    "    ['retweeted_derived', 'company_derived', 'text_derived',  # \"tweet_quoted_status_id\",\n",
    "     'tweet_url_link_derived', 'multiple_companies_derived_count', \"company_derived_designation\",\n",
    "     'tweet_text_length_derived', \"spaCy_language_detect\",\n",
    "     \"user_description_text_length\"] "
   ]
  },
  {
   "cell_type": "markdown",
   "metadata": {},
   "source": [
    "## Data Analysis Utility Functions:"
   ]
  },
  {
   "cell_type": "markdown",
   "metadata": {},
   "source": [
    "\n",
    "The following sample function calls illustrate how we use the utility functions in \"slo_twitter_data_analysis_utility_functions_v2.py\" to perform individual/multi attribute extraction/export and data chuncking extraction/export.<br>\n",
    "\n"
   ]
  },
  {
   "cell_type": "code",
   "execution_count": null,
   "metadata": {
    "pycharm": {
     "name": "#%%\n"
    }
   },
   "outputs": [],
   "source": [
    "    # Read in JSON/CSV data as chunks and export to CSV/JSON files.\n",
    "    tweet_util_v2.generalized_data_chunking_file_export_function(\n",
    "        \"D:/Dropbox/summer-research-2019/json/dataset_slo_20100101-20180510.json\",\n",
    "        \"D:/Dropbox/summer-research-2019/jupyter-notebooks/dataset-chunks/\", \"csv\")"
   ]
  },
  {
   "cell_type": "code",
   "execution_count": null,
   "metadata": {
    "pycharm": {
     "name": "#%%\n"
    }
   },
   "outputs": [],
   "source": [
    "    # Extract various nested attributes from a outer attribute in the raw JSON file and export to CSV or JSON file.\n",
    "    # We extract 13 different attributes (some nested).\n",
    "    tweet_util_v2.flatten_extract_nested_json_attributes(\n",
    "        \"D:/Dropbox/summer-research-2019/json/dataset_slo_20100101-20180510.json\",\n",
    "        \"D:/Dropbox/summer-research-2019/jupyter-notebooks/attribute-datasets/retweeted-nested-attributes.csv\",\n",
    "        \"retweeted_status\",\n",
    "        ['created_at', 'id', 'full_text', 'in_reply_to_status_id', 'in_reply_to_user_id', 'in_reply_to_screen_name',\n",
    "         'retweet_count', 'favorite_count', 'lang', 'entities', 'user', 'coordinates', 'place'],\n",
    "        \"csv\")"
   ]
  },
  {
   "cell_type": "code",
   "execution_count": null,
   "metadata": {
    "pycharm": {
     "name": "#%%\n"
    }
   },
   "outputs": [],
   "source": [
    "    # Extract various single or multiple attributes in the raw JSON file and export to JSON or CSV.\n",
    "    tweet_util_v2.extract_single_multi_json_attributes(\n",
    "        \"D:/Dropbox/summer-research-2019/jupyter-notebooks/attribute-datasets/twitter-dataset-extract-json-test.json\",\n",
    "        \"D:/Dropbox/summer-research-2019/jupyter-notebooks/attribute-datasets/twitter-dataset-extract-test_results\",\n",
    "        ['created_at', 'id', 'full_text', 'in_reply_to_status_id', 'quoted_status_id',\n",
    "         'in_reply_to_user_id', 'in_reply_to_screen_name',\n",
    "         'retweet_count', 'favorite_count', 'lang'],\n",
    "        \"csv\")"
   ]
  },
  {
   "cell_type": "markdown",
   "metadata": {},
   "source": [
    "\n",
    "Refer to the Python file itself if interested in that codebase.  Several graphing helper functions are also included.<br>\n",
    "\n"
   ]
  },
  {
   "cell_type": "markdown",
   "metadata": {},
   "source": [
    "## Execution Time for Data Analysis Operations:"
   ]
  },
  {
   "cell_type": "markdown",
   "metadata": {},
   "source": [
    "\n",
    "We time the execution of our data analysis operations using the code snippet below.  This allows us to determine whether we should separate our primary Twitter dataset into smaller subsets containing only the specific attributes required for that specific analysis function in order to reduce computational time.<br>\n",
    "\n"
   ]
  },
  {
   "cell_type": "code",
   "execution_count": 5,
   "metadata": {},
   "outputs": [
    {
     "name": "stdout",
     "output_type": "stream",
     "text": [
      "Time taken to process dataset: 0.0 seconds, 0.0 minutes, 0.0 hours\n"
     ]
    }
   ],
   "source": [
    "my_start_time = time.time()\n",
    "\n",
    "# Insert function call or loose code here.\n",
    "\n",
    "my_end_time = time.time()\n",
    "\n",
    "time_elapsed_in_seconds = (my_end_time - my_start_time)\n",
    "time_elapsed_in_minutes = (my_end_time - my_start_time) / 60.0\n",
    "time_elapsed_in_hours = (my_end_time - my_start_time) / 60.0 / 60.0\n",
    "print(f\"Time taken to process dataset: {time_elapsed_in_seconds} seconds, \"\n",
    "      f\"{time_elapsed_in_minutes} minutes, {time_elapsed_in_hours} hours\")"
   ]
  },
  {
   "cell_type": "code",
   "execution_count": 6,
   "metadata": {
    "scrolled": true
   },
   "outputs": [
    {
     "data": {
      "image/png": "[encoded data removed]",
      "text/plain": [
       "<IPython.core.display.Image object>"
      ]
     },
     "execution_count": 6,
     "metadata": {
      "image/png": {
       "height": 768,
       "width": 1024
      }
     },
     "output_type": "execute_result"
    }
   ],
   "source": [
    "from IPython.display import Image\n",
    "from IPython.core.display import HTML \n",
    "\n",
    "PATH = \"images/\"\n",
    "Image(filename = PATH + \"time_series_analysis_function_execution_time.PNG\", width=1024, height=768)"
   ]
  },
  {
   "cell_type": "markdown",
   "metadata": {},
   "source": [
    "\n",
    "Our current Twitter dataset includes quite a few columns for each of the 650k+ Tweets.  It takes approximately 3 minutes to execute the Time Series analysis function.  Therefore, we might consider extracting just the necessary fields for this function to a separate CSV file in order to reduce computational time.<br>\n",
    "\n"
   ]
  },
  {
   "cell_type": "markdown",
   "metadata": {},
   "source": [
    "## Display raw JSON file data chunk dataframe information:"
   ]
  },
  {
   "cell_type": "markdown",
   "metadata": {},
   "source": [
    "\n",
    "By specifying \"none\" as the function name, we simply print out logger INFO on the shape, columns, and a single sample of the dataframe on the first chunk of data.  We use this function as the raw JSON file is too large to fit into system RAM.<br>\n",
    "\n"
   ]
  },
  {
   "cell_type": "code",
   "execution_count": 8,
   "metadata": {
    "pycharm": {
     "name": "#%%\n"
    }
   },
   "outputs": [
    {
     "name": "stderr",
     "output_type": "stream",
     "text": [
      "INFO:root:\n",
      "The shape of the dataframe storing the contents of the raw JSON Tweet file chunk 1 is:\n",
      "\n",
      "INFO:root:(100000, 30)\n",
      "INFO:root:\n",
      "The columns of the dataframe storing the contents of the raw JSON Tweet file chunk 1 is:\n",
      "\n",
      "INFO:root:Index(['contributors', 'coordinates', 'created_at', 'display_text_range',\n",
      "       'entities', 'extended_entities', 'favorite_count', 'favorited',\n",
      "       'full_text', 'geo', 'id', 'id_str', 'in_reply_to_screen_name',\n",
      "       'in_reply_to_status_id', 'in_reply_to_status_id_str',\n",
      "       'in_reply_to_user_id', 'in_reply_to_user_id_str', 'is_quote_status',\n",
      "       'lang', 'place', 'possibly_sensitive', 'quoted_status',\n",
      "       'quoted_status_id', 'quoted_status_id_str', 'retweet_count',\n",
      "       'retweeted', 'retweeted_status', 'source', 'truncated', 'user'],\n",
      "      dtype='object')\n",
      "INFO:root:\n",
      "The first row from the dataframe storing the contents of the raw JSON Tweet file chunk 1 is:\n",
      "\n",
      "INFO:root:\n",
      "contributors                                                                                                                                                                                                                                                                                                                                                                                                                                                                                                                                                                                                                                                                                                                                                                                                                                                                                                                                                                                                                                                     NaN\n",
      "coordinates                                                                                                                                                                                                                                                                                                                                                                                                                                                                                                                                                                                                                                                                                                                                                                                                                                                                                                                                                                                                                                                     None\n",
      "created_at                                                                                                                                                                                                                                                                                                                                                                                                                                                                                                                                                                                                                                                                                                                                                                                                                                                                                                                                                                                                                                       2013-02-23 03:40:21\n",
      "display_text_range                                                                                                                                                                                                                                                                                                                                                                                                                                                                                                                                                                                                                                                                                                                                                                                                                                                                                                                                                                                                                                           [0, 91]\n",
      "entities                                                                                                                                                                                                                                                                                                                                                                                                                                                                                                                                                                                                                                                                                                                                                                                                                                                                                       {'urls': [], 'hashtags': [], 'user_mentions': [{'indices': [0, 8], 'screen_name': 'abcnews', 'id_str': '2768501', 'name': 'ABC News', 'id': 2768501}], 'symbols': []}\n",
      "extended_entities                                                                                                                                                                                                                                                                                                                                                                                                                                                                                                                                                                                                                                                                                                                                                                                                                                                                                                                                                                                                                                                NaN\n",
      "favorite_count                                                                                                                                                                                                                                                                                                                                                                                                                                                                                                                                                                                                                                                                                                                                                                                                                                                                                                                                                                                                                                                     0\n",
      "favorited                                                                                                                                                                                                                                                                                                                                                                                                                                                                                                                                                                                                                                                                                                                                                                                                                                                                                                                                                                                                                                                      False\n",
      "full_text                                                                                                                                                                                                                                                                                                                                                                                                                                                                                                                                                                                                                                                                                                                                                                                                                                                                                                                                                                @abcnews About bloody time. Adani only wants FIFO Indian workers for his Bowen basin mines.\n",
      "geo                                                                                                                                                                                                                                                                                                                                                                                                                                                                                                                                                                                                                                                                                                                                                                                                                                                                                                                                                                                                                                                             None\n",
      "id                                                                                                                                                                                                                                                                                                                                                                                                                                                                                                                                                                                                                                                                                                                                                                                                                                                                                                                                                                                                                                                305160140833816576\n",
      "id_str                                                                                                                                                                                                                                                                                                                                                                                                                                                                                                                                                                                                                                                                                                                                                                                                                                                                                                                                                                                                                                            305160140833816576\n",
      "in_reply_to_screen_name                                                                                                                                                                                                                                                                                                                                                                                                                                                                                                                                                                                                                                                                                                                                                                                                                                                                                                                                                                                                                                      abcnews\n",
      "in_reply_to_status_id                                                                                                                                                                                                                                                                                                                                                                                                                                                                                                                                                                                                                                                                                                                                                                                                                                                                                                                                                                                                                              3.05159434463e+17\n",
      "in_reply_to_status_id_str                                                                                                                                                                                                                                                                                                                                                                                                                                                                                                                                                                                                                                                                                                                                                                                                                                                                                                                                                                                                                          3.05159434463e+17\n",
      "in_reply_to_user_id                                                                                                                                                                                                                                                                                                                                                                                                                                                                                                                                                                                                                                                                                                                                                                                                                                                                                                                                                                                                                                          2768501\n",
      "in_reply_to_user_id_str                                                                                                                                                                                                                                                                                                                                                                                                                                                                                                                                                                                                                                                                                                                                                                                                                                                                                                                                                                                                                                      2768501\n",
      "is_quote_status                                                                                                                                                                                                                                                                                                                                                                                                                                                                                                                                                                                                                                                                                                                                                                                                                                                                                                                                                                                                                                                False\n",
      "lang                                                                                                                                                                                                                                                                                                                                                                                                                                                                                                                                                                                                                                                                                                                                                                                                                                                                                                                                                                                                                                                              en\n",
      "place                                                                                                                                                                                                                                                                                                                                                                                                                                                                                                                                                                                                                                                                                                                                                                                                                                                                                                                                                                                                                                                           None\n",
      "possibly_sensitive                                                                                                                                                                                                                                                                                                                                                                                                                                                                                                                                                                                                                                                                                                                                                                                                                                                                                                                                                                                                                                               NaN\n",
      "quoted_status                                                                                                                                                                                                                                                                                                                                                                                                                                                                                                                                                                                                                                                                                                                                                                                                                                                                                                                                                                                                                                                    NaN\n",
      "quoted_status_id                                                                                                                                                                                                                                                                                                                                                                                                                                                                                                                                                                                                                                                                                                                                                                                                                                                                                                                                                                                                                                                 NaN\n",
      "quoted_status_id_str                                                                                                                                                                                                                                                                                                                                                                                                                                                                                                                                                                                                                                                                                                                                                                                                                                                                                                                                                                                                                                             NaN\n",
      "retweet_count                                                                                                                                                                                                                                                                                                                                                                                                                                                                                                                                                                                                                                                                                                                                                                                                                                                                                                                                                                                                                                                      0\n",
      "retweeted                                                                                                                                                                                                                                                                                                                                                                                                                                                                                                                                                                                                                                                                                                                                                                                                                                                                                                                                                                                                                                                      False\n",
      "retweeted_status                                                                                                                                                                                                                                                                                                                                                                                                                                                                                                                                                                                                                                                                                                                                                                                                                                                                                                                                                                                                                                                 NaN\n",
      "source                                                                                                                                                                                                                                                                                                                                                                                                                                                                                                                                                                                                                                                                                                                                                                                                                                                                                                                                                                            <a href=\"http://twitter.com/download/iphone\" rel=\"nofollow\">Twitter for iPhone</a>\n",
      "truncated                                                                                                                                                                                                                                                                                                                                                                                                                                                                                                                                                                                                                                                                                                                                                                                                                                                                                                                                                                                                                                                      False\n",
      "user                         {'utc_offset': 36000, 'friends_count': 1385, 'profile_image_url_https': 'https://pbs.twimg.com/profile_images/698290934618787840/SIpBKnWE_normal.jpg', 'listed_count': 3, 'profile_background_image_url': 'http://abs.twimg.com/images/themes/theme1/bg.png', 'default_profile_image': False, 'favourites_count': 533, 'description': 'Train Driver extraordinaire, proud Union Leftie and Labor supporter. Cant stand the LNP and their regressive ideas. Mainly political but I do enjoy a laugh.', 'created_at': 'Tue Aug 21 23:23:52 +0000 2012', 'is_translator': False, 'profile_background_image_url_https': 'https://abs.twimg.com/images/themes/theme1/bg.png', 'protected': False, 'screen_name': 'DazzDicko', 'id_str': '772466924', 'profile_link_color': '1DA1F2', 'is_translation_enabled': False, 'translator_type': 'none', 'id': 772466924, 'geo_enabled': True, 'profile_background_color': 'C0DEED', 'lang': 'en', 'has_extended_profile': False, 'profile_sidebar_border_color': 'C0DEED', 'profile_text_color':...\n",
      "Name: 0, dtype: object\n"
     ]
    }
   ],
   "source": [
    "    # Specify and call data analysis functions on chunked raw JSON Tweet file.\n",
    "    tweet_util_v2.call_data_analysis_function_on_json_file_chunks(\n",
    "        \"D:/Dropbox/summer-research-2019/json/dataset_slo_20100101-20180510.json\", \"none\")"
   ]
  },
  {
   "cell_type": "markdown",
   "metadata": {},
   "source": [
    "\n",
    "As can be seen, each Tweet object in its raw JSON form contains many different attributes.  The \"user\" attribute is a Object itself that especially contains many other attributes and Objects.<br>\n",
    "\n"
   ]
  },
  {
   "cell_type": "markdown",
   "metadata": {},
   "source": [
    "## Import raw JSON converted to CSV  Twitter dataset file:"
   ]
  },
  {
   "cell_type": "markdown",
   "metadata": {},
   "source": [
    "\n",
    "We read in the Twitter dataset as a CSV file and generate a Pandas dataframe from the dataset.<br>\n",
    "\n",
    "Note: Does not contain all fields from the raw JSON file; only the ones we are currently interested in analyzing.  We will append columns to the CSV file as necessary if additional attributes become relevant for analysis.  Anything with \"derived\" is a derived column created via .apply(function) to the native attributes.<br>\n",
    "\n"
   ]
  },
  {
   "cell_type": "code",
   "execution_count": 5,
   "metadata": {
    "pycharm": {
     "name": "#%%\n"
    },
    "scrolled": false
   },
   "outputs": [
    {
     "name": "stderr",
     "output_type": "stream",
     "text": [
      "d:\\dropbox\\cs344-ai\\venv3.6-64bit\\lib\\site-packages\\IPython\\core\\interactiveshell.py:3209: DtypeWarning: Columns (36) have mixed types. Specify dtype option on import or set low_memory=False.\n",
      "  if (yield from self.run_code(code, result)):\n",
      "INFO:root:\n",
      "The shape of our dataframe storing the contents of the csv Tweet data is:\n",
      "\n",
      "INFO:root:(670423, 37)\n",
      "INFO:root:\n",
      "The columns of our dataframe storing the contents of the csv Tweet data is:\n",
      "\n",
      "INFO:root:Index(['retweeted_derived', 'company_derived', 'text_derived',\n",
      "       'tweet_url_link_derived', 'multiple_companies_derived_count',\n",
      "       'company_derived_designation', 'tweet_text_length_derived',\n",
      "       'spaCy_language_detect_all_tweets', 'user_description_text_length',\n",
      "       'tweet_created_at', 'tweet_id', 'tweet_full_text',\n",
      "       'tweet_in_reply_to_status_id', 'tweet_in_reply_to_user_id',\n",
      "       'tweet_in_reply_to_screen_name', 'tweet_retweet_count',\n",
      "       'tweet_favorite_count', 'tweet_lang', 'user_id', 'user_name',\n",
      "       'user_screen_name', 'user_location', 'user_description',\n",
      "       'user_followers_count', 'user_friends_count', 'user_listed_count',\n",
      "       'user_favourites_count', 'user_statuses_count', 'user_created_at',\n",
      "       'user_time_zone', 'user_lang', 'tweet_entities_expanded_urls',\n",
      "       'tweet_entities_hashtags', 'tweet_entities_user_mentions_id',\n",
      "       'tweet_entities_user_mentions_name',\n",
      "       'tweet_entities_user_mentions_screen_name', 'tweet_entities_symbols'],\n",
      "      dtype='object')\n",
      "INFO:root:\n",
      "The first row from the dataframe storing the contents of the csv Tweet data is:\n",
      "\n",
      "INFO:root:\n",
      "retweeted_derived                                                                                                                                                                                  False\n",
      "company_derived                                                                                                                                                                                    adani\n",
      "text_derived                                                                                                 @abcnews About bloody time. Adani only wants FIFO Indian workers for his Bowen basin mines.\n",
      "tweet_url_link_derived                                                                                                                                   https://twitter.com/-/status/305160140833816576\n",
      "multiple_companies_derived_count                                                                                                                                                                       1\n",
      "company_derived_designation                                                                                                                                                                        adani\n",
      "tweet_text_length_derived                                                                                                                                                                             91\n",
      "spaCy_language_detect_all_tweets                                                                                                                                                                      en\n",
      "user_description_text_length                                                                                                                                                                         156\n",
      "tweet_created_at                                                                                                                                                                     2013-02-23 03:40:21\n",
      "tweet_id                                                                                                                                                                              305160140833816576\n",
      "tweet_full_text                                                                                              @abcnews About bloody time. Adani only wants FIFO Indian workers for his Bowen basin mines.\n",
      "tweet_in_reply_to_status_id                                                                                                                                                            3.05159434463e+17\n",
      "tweet_in_reply_to_user_id                                                                                                                                                                        2768501\n",
      "tweet_in_reply_to_screen_name                                                                                                                                                                    abcnews\n",
      "tweet_retweet_count                                                                                                                                                                                    0\n",
      "tweet_favorite_count                                                                                                                                                                                   0\n",
      "tweet_lang                                                                                                                                                                                            en\n",
      "user_id                                                                                                                                                                                        772466924\n",
      "user_name                                                                                                                                                                                  Daryl Dickson\n",
      "user_screen_name                                                                                                                                                                               DazzDicko\n",
      "user_location                                                                                                                                                                       Far North Queensland\n",
      "user_description                            Train Driver extraordinaire, proud Union Leftie and Labor supporter. Cant stand the LNP and their regressive ideas. Mainly political but I do enjoy a laugh.\n",
      "user_followers_count                                                                                                                                                                                 945\n",
      "user_friends_count                                                                                                                                                                                  1385\n",
      "user_listed_count                                                                                                                                                                                      3\n",
      "user_favourites_count                                                                                                                                                                                533\n",
      "user_statuses_count                                                                                                                                                                                 5176\n",
      "user_created_at                                                                                                                                                           Tue Aug 21 23:23:52 +0000 2012\n",
      "user_time_zone                                                                                                                                                                        Australia/Brisbane\n",
      "user_lang                                                                                                                                                                                             en\n",
      "tweet_entities_expanded_urls                                                                                                                                                                         NaN\n",
      "tweet_entities_hashtags                                                                                                                                                                              NaN\n",
      "tweet_entities_user_mentions_id                                                                                                                                                                [2768501]\n",
      "tweet_entities_user_mentions_name                                                                                                                                                               ABC News\n",
      "tweet_entities_user_mentions_screen_name                                                                                                                                                         abcnews\n",
      "tweet_entities_symbols                                                                                                                                                                               NaN\n",
      "Name: 0, dtype: object\n"
     ]
    },
    {
     "name": "stderr",
     "output_type": "stream",
     "text": [
      "\n"
     ]
    }
   ],
   "source": [
    "    # Import CSV dataset and convert to dataframe.\n",
    "    tweet_csv_dataframe = tweet_util_v2.import_dataset(\n",
    "        \"D:/Dropbox/summer-research-2019/jupyter-notebooks/attribute-datasets/twitter-dataset-6-27-19.csv\",\n",
    "        \"csv\", True)"
   ]
  },
  {
   "cell_type": "markdown",
   "metadata": {},
   "source": [
    " \n",
    "The above log.INFO output shows the shape, columns, and a sample from the Pandas Dataframe that contains the entirety of the CSV file.<br>\n",
    " \n"
   ]
  },
  {
   "cell_type": "code",
   "execution_count": null,
   "metadata": {
    "pycharm": {
     "name": "#%%\n"
    }
   },
   "outputs": [],
   "source": []
  }
 ],
 "metadata": {
  "kernelspec": {
   "display_name": "Python 3",
   "language": "python",
   "name": "python3"
  },
  "language_info": {
   "codemirror_mode": {
    "name": "ipython",
    "version": 3
   },
   "file_extension": ".py",
   "mimetype": "text/x-python",
   "name": "python",
   "nbconvert_exporter": "python",
   "pygments_lexer": "ipython3",
   "version": "3.6.6"
  },
  "pycharm": {
   "stem_cell": {
    "cell_type": "raw",
    "metadata": {
     "collapsed": false
    },
    "source": []
   }
  }
 },
 "nbformat": 4,
 "nbformat_minor": 1
}
