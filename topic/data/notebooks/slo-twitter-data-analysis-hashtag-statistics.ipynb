{
 "cells": [
  {
   "cell_type": "markdown",
   "metadata": {},
   "source": [
    "# SLO Twitter Data Analysis  - Tweet #Hashtag Statistics"
   ]
  },
  {
   "cell_type": "markdown",
   "metadata": {},
   "source": [
    "Setup the Jupyter Notebook kernel for SLO data analysis."
   ]
  },
  {
   "cell_type": "code",
   "execution_count": 2,
   "metadata": {},
   "outputs": [
    {
     "name": "stderr",
     "output_type": "stream",
     "text": [
      "d:\\dropbox\\cs344-ai\\venv3.6-64bit\\lib\\site-packages\\IPython\\core\\interactiveshell.py:3209: DtypeWarning: Columns (36) have mixed types. Specify dtype option on import or set low_memory=False.\n",
      "  if (yield from self.run_code(code, result)):\n"
     ]
    }
   ],
   "source": [
    "import logging as log\n",
    "import warnings\n",
    "import time\n",
    "from matplotlib import pyplot as plt\n",
    "import pandas as pd\n",
    "import numpy as np\n",
    "import seaborn as sns\n",
    "\n",
    "# Import custom utility functions.\n",
    "import slo_twitter_data_analysis_utility_functions as tweet_util_v2\n",
    "\n",
    "#############################################################\n",
    "# Adjust parameters to display all contents.\n",
    "pd.options.display.max_rows = None\n",
    "pd.options.display.max_columns = None\n",
    "pd.options.display.width = None\n",
    "pd.options.display.max_colwidth = 1000\n",
    "# Seaborn setting.\n",
    "sns.set()\n",
    "# Set level of precision for float value output.\n",
    "pd.set_option('precision', 12)\n",
    "# Ignore these types of warnings - don't output to console.\n",
    "warnings.simplefilter(action='ignore', category=FutureWarning)\n",
    "warnings.simplefilter(action='ignore', category=DeprecationWarning)\n",
    "warnings.simplefilter(action='ignore', category=UserWarning)\n",
    "# Matplotlib log settings.\n",
    "mylog = log.getLogger(\"matplotlib\")\n",
    "mylog.setLevel(log.INFO)\n",
    "\n",
    "\"\"\"\n",
    "Turn debug log statements for various sections of code on/off.\n",
    "(adjust log level as necessary)\n",
    "\"\"\"\n",
    "log.basicConfig(level=log.INFO)\n",
    "\n",
    "\n",
    "# Import CSV dataset and convert to dataframe.\n",
    "tweet_dataframe = tweet_util_v2.import_dataset(\n",
    "    \"D:/Dropbox/summer-research-2019/jupyter-notebooks/attribute-datasets/\"\n",
    "    \"twitter-dataset-6-27-19.csv\",\n",
    "    \"csv\", False)"
   ]
  },
  {
   "cell_type": "markdown",
   "metadata": {},
   "source": [
    "## Graph of Hashtag Count by Percentage of All Tweets Associated with Given Company:"
   ]
  },
  {
   "cell_type": "markdown",
   "metadata": {},
   "source": [
    "\n",
    "Plots the number of hashtags Tweets possess against the percentage of all Tweets associated with a given company that possess that number of hashtags.<br>\n",
    "\n"
   ]
  },
  {
   "cell_type": "code",
   "execution_count": 2,
   "metadata": {
    "pycharm": {
     "name": "#%%\n"
    }
   },
   "outputs": [
    {
     "name": "stdout",
     "output_type": "stream",
     "text": [
      "The Number of Hashtags within each Tweet:\n",
      "Hashtag Count for Tweets by Percentage of All Tweets Associated with a Given Company:\n"
     ]
    },
    {
     "data": {
      "text/plain": [
       "<Figure size 432x288 with 0 Axes>"
      ]
     },
     "metadata": {},
     "output_type": "display_data"
    },
    {
     "data": {
      "image/png": "[encoded data removed]",
      "text/plain": [
       "<Figure size 1296x432 with 12 Axes>"
      ]
     },
     "metadata": {
      "needs_background": "light"
     },
     "output_type": "display_data"
    }
   ],
   "source": [
    "    print(f\"The Number of Hashtags within each Tweet:\")\n",
    "    tweet_dataframe['#hashtags'] = tweet_dataframe['tweet_entities_hashtags'].apply(\n",
    "        lambda x: len(x) if x is not None and not isinstance(x, float) else 0)\n",
    "    # companies = df['company']\n",
    "\n",
    "    print(\"Hashtag Count for Tweets by Percentage of All Tweets Associated with a Given Company:\")\n",
    "    plt.figure()\n",
    "    grid = sns.FacetGrid(\n",
    "        tweet_dataframe[['#hashtags', 'company_derived_designation']], col='company_derived_designation', col_wrap=6,\n",
    "        ylim=(0, 1), xlim=(-1, 10))\n",
    "    grid.map_dataframe(tweet_util_v2.bar_plot, '#hashtags')\n",
    "    grid.set_titles('{col_name}')\n",
    "    grid.set_xlabels(\"# of Hashtags\").set_ylabels(\"Percentage of All Tweets\")\n",
    "    plt.show()"
   ]
  },
  {
   "cell_type": "markdown",
   "metadata": {},
   "source": [
    "\n",
    "Most Tweets for each company have no associated hashtags; some have quite a few.\n",
    "\n"
   ]
  },
  {
   "cell_type": "markdown",
   "metadata": {},
   "source": [
    "## Percentage of Tweets with Hashtags in Dataset:"
   ]
  },
  {
   "cell_type": "code",
   "execution_count": 3,
   "metadata": {},
   "outputs": [
    {
     "name": "stdout",
     "output_type": "stream",
     "text": [
      "The number of Tweets with hashtags is 367217\n",
      "The percentage of Tweets with hashtags is 54.77392631219394\n"
     ]
    }
   ],
   "source": [
    "    has_hashtag = tweet_dataframe['tweet_entities_hashtags'].count()\n",
    "    print(f\"The number of Tweets with hashtags is {has_hashtag}\")\n",
    "    print(f\"The percentage of Tweets with hashtags is {has_hashtag / tweet_dataframe.shape[0] * 100.0}\")"
   ]
  },
  {
   "cell_type": "markdown",
   "metadata": {},
   "source": [
    "\n",
    "Overall, around half of our Tweets possesss a hashtag of some sort.<br>\n",
    "\n"
   ]
  },
  {
   "cell_type": "code",
   "execution_count": 4,
   "metadata": {
    "pycharm": {
     "name": "#%%\n"
    }
   },
   "outputs": [
    {
     "name": "stdout",
     "output_type": "stream",
     "text": [
      "The number of Adani Tweets is 431019\n"
     ]
    },
    {
     "name": "stderr",
     "output_type": "stream",
     "text": [
      "d:\\dropbox\\cs344-ai\\venv3.6-64bit\\lib\\site-packages\\ipykernel_launcher.py:5: SettingWithCopyWarning: \n",
      "A value is trying to be set on a copy of a slice from a DataFrame.\n",
      "Try using .loc[row_indexer,col_indexer] = value instead\n",
      "\n",
      "See the caveats in the documentation: http://pandas.pydata.org/pandas-docs/stable/indexing.html#indexing-view-versus-copy\n",
      "  \"\"\"\n"
     ]
    },
    {
     "name": "stdout",
     "output_type": "stream",
     "text": [
      "The number of Adani Tweets with hashtags is 255992\n",
      "The number of Adani Tweets without hashtags is 175027\n",
      "Percentage Adani Tweets with hashtags: 59.39227737060315\n",
      "Percentage Adani Tweets without hashtags: 40.60772262939685\n"
     ]
    }
   ],
   "source": [
    "    adani_tweets = tweet_dataframe.loc[tweet_dataframe[\"company_derived_designation\"] == \"adani\"]\n",
    "    print(f\"The number of Adani Tweets is {adani_tweets.shape[0]}\")\n",
    "\n",
    "    adani_tweets[\"#hashtags_adani\"] = adani_tweets['tweet_entities_hashtags'].apply(\n",
    "        lambda x: len(x) if x is not None and not isinstance(x, float) else 0)\n",
    "\n",
    "    adani_tweets_has_hashtags = adani_tweets.loc[adani_tweets[\"#hashtags_adani\"] > 0]\n",
    "    print(f\"The number of Adani Tweets with hashtags is {adani_tweets_has_hashtags.shape[0]}\")\n",
    "    print(f\"The number of Adani Tweets without hashtags is \"\n",
    "          f\"{adani_tweets.shape[0] - adani_tweets_has_hashtags.shape[0]}\")\n",
    "\n",
    "    print(f\"Percentage Adani Tweets with hashtags: \"\n",
    "          f\"{adani_tweets_has_hashtags.shape[0] / adani_tweets.shape[0] * 100}\")\n",
    "    print(f\"Percentage Adani Tweets without hashtags: \"\n",
    "          f\"{(1 - adani_tweets_has_hashtags.shape[0] / adani_tweets.shape[0]) * 100}\")"
   ]
  },
  {
   "cell_type": "code",
   "execution_count": null,
   "metadata": {},
   "outputs": [],
   "source": []
  }
 ],
 "metadata": {
  "kernelspec": {
   "display_name": "Python 3",
   "language": "python",
   "name": "python3"
  },
  "language_info": {
   "codemirror_mode": {
    "name": "ipython",
    "version": 3
   },
   "file_extension": ".py",
   "mimetype": "text/x-python",
   "name": "python",
   "nbconvert_exporter": "python",
   "pygments_lexer": "ipython3",
   "version": "3.6.6"
  },
  "pycharm": {
   "stem_cell": {
    "cell_type": "raw",
    "metadata": {
     "collapsed": false
    },
    "source": []
   }
  }
 },
 "nbformat": 4,
 "nbformat_minor": 1
}
