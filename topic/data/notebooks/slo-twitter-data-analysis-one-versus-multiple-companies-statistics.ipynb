{
 "cells": [
  {
   "cell_type": "markdown",
   "metadata": {},
   "source": [
    "# Single-Company versus Multi-Company Associated Tweets"
   ]
  },
  {
   "cell_type": "markdown",
   "metadata": {},
   "source": [
    "Setup the Jupyter Notebook kernel for SLO data analysis."
   ]
  },
  {
   "cell_type": "code",
   "execution_count": 1,
   "metadata": {},
   "outputs": [],
   "source": [
    "import logging as log\n",
    "import warnings\n",
    "import time\n",
    "from matplotlib import pyplot as plt\n",
    "import pandas as pd\n",
    "import seaborn as sns\n",
    "\n",
    "# Import custom utility functions.\n",
    "import slo_twitter_data_analysis_utility_functions as tweet_util_v2\n",
    "\n",
    "#############################################################\n",
    "# Adjust parameters to display all contents.\n",
    "pd.options.display.max_rows = None\n",
    "pd.options.display.max_columns = None\n",
    "pd.options.display.width = None\n",
    "pd.options.display.max_colwidth = 1000\n",
    "# Seaborn setting.\n",
    "sns.set()\n",
    "# Set level of precision for float value output.\n",
    "pd.set_option('precision', 12)\n",
    "# Ignore these types of warnings - don't output to console.\n",
    "warnings.simplefilter(action='ignore', category=FutureWarning)\n",
    "warnings.simplefilter(action='ignore', category=DeprecationWarning)\n",
    "warnings.simplefilter(action='ignore', category=UserWarning)\n",
    "# Matplotlib log settings.\n",
    "mylog = log.getLogger(\"matplotlib\")\n",
    "mylog.setLevel(log.INFO)\n",
    "\n",
    "\"\"\"\n",
    "Turn debug log statements for various sections of code on/off.\n",
    "(adjust log level as necessary)\n",
    "\"\"\"\n",
    "log.basicConfig(level=log.INFO)\n",
    "\n",
    "\n",
    "# Import CSV dataset and convert to dataframe.\n",
    "tweet_dataframe = tweet_util_v2.import_dataset(\n",
    "    \"D:/Dropbox/summer-research-2019/jupyter-notebooks/attribute-datasets/\"\n",
    "    \"twitter-dataset-7-10-19-with-irrelevant-tweets-excluded.csv\",\n",
    "    \"csv\", False)"
   ]
  },
  {
   "cell_type": "markdown",
   "metadata": {},
   "source": [
    "## Single or Multiple Companies:"
   ]
  },
  {
   "cell_type": "markdown",
   "metadata": {},
   "source": [
    "\n",
    "This function displays the number of Tweets associated with only one company or associated with multiple companies.\n",
    "\n"
   ]
  },
  {
   "cell_type": "code",
   "execution_count": 2,
   "metadata": {
    "pycharm": {
     "name": "#%%\n"
    }
   },
   "outputs": [],
   "source": [
    "def tweets_number_associated_companies(tweet_dataframe):\n",
    "    \"\"\"\n",
    "    Function displays statistics on the # of Tweets associated with one versus multiple companies.\n",
    "\n",
    "    :param tweet_dataframe: the Twitter dataset in a Pandas dataframe.\n",
    "    :return: None.\n",
    "    \"\"\"\n",
    "    # Number of rows in entire dataframe.\n",
    "    number_rows_total = tweet_dataframe.shape[0]\n",
    "    print(f\"The # of Tweets in total is {number_rows_total}\")\n",
    "\n",
    "    has_company = pd.DataFrame(tweet_dataframe.loc[tweet_dataframe['company_derived_designation'].notnull()])\n",
    "    print(f\"The # of Tweets associated with at least one company is {has_company.shape[0]}\")\n",
    "\n",
    "    # Select only rows with one associated company. (don't graph company combos)\n",
    "    single_company_only_df = has_company.loc[\n",
    "        (has_company['company_derived_designation'].str.contains(\"multiple\") == False)]\n",
    "\n",
    "    # Number of rows associated with only one company.\n",
    "    number_rows_one_company = single_company_only_df.shape[0]\n",
    "\n",
    "    print(f\"The # of Tweets associated with multiple companies is {has_company.shape[0] - number_rows_one_company}\")\n",
    "    print(f\"The # of Tweets associated with one company is {number_rows_one_company}\")\n",
    "    print(f\"The # of Tweets associated with no company is {number_rows_total - has_company.shape[0]}\")\n",
    "\n",
    "    percent_single = number_rows_one_company / number_rows_total * 100.0\n",
    "    percent_multiple = (number_rows_total - number_rows_one_company) / number_rows_total * 100.0\n",
    "\n",
    "    print(f\"The percentage of the dataset associated with a single company is {percent_single}%\")\n",
    "    print(f\"The percentage of the dataset associated with multiple companies is {percent_multiple}%\")"
   ]
  },
  {
   "cell_type": "markdown",
   "metadata": {},
   "source": [
    "\n",
    "Call the data analysis function.<br>\n",
    "\n"
   ]
  },
  {
   "cell_type": "code",
   "execution_count": 3,
   "metadata": {
    "pycharm": {
     "name": "#%%\n"
    }
   },
   "outputs": [
    {
     "name": "stdout",
     "output_type": "stream",
     "text": [
      "The # of Tweets in total is 654618\n",
      "The # of Tweets associated with at least one company is 654618\n",
      "The # of Tweets associated with multiple companies is 8205\n",
      "The # of Tweets associated with one company is 646413\n",
      "The # of Tweets associated with no company is 0\n",
      "The percentage of the dataset associated with a single company is 98.74659725213789%\n",
      "The percentage of the dataset associated with multiple companies is 1.253402747862112%\n"
     ]
    }
   ],
   "source": [
    "    # Tweets associated with one or multiple companies.\n",
    "    tweets_number_associated_companies(tweet_dataframe)"
   ]
  },
  {
   "cell_type": "markdown",
   "metadata": {},
   "source": [
    "\n",
    "The majority of our Tweets are only associated with a single company.  However, a small percentage are associated with multiple companies.<br>\n",
    "\n"
   ]
  },
  {
   "cell_type": "markdown",
   "metadata": {},
   "source": [
    "## Export multi-company associated Tweets to separate CSV file:"
   ]
  },
  {
   "cell_type": "markdown",
   "metadata": {},
   "source": [
    "    \n",
    "Function isolates and exports to a new CSV file all Tweets that are associated with more than one company.<br>\n",
    "\n"
   ]
  },
  {
   "cell_type": "code",
   "execution_count": 4,
   "metadata": {
    "pycharm": {
     "name": "#%%\n"
    }
   },
   "outputs": [],
   "source": [
    "    # Isolate multi-company associated Tweets for data analysis and export to new CSV file.\n",
    "    tweet_util_v2.export_multi_company_tweets(tweet_dataframe)"
   ]
  },
  {
   "cell_type": "markdown",
   "metadata": {},
   "source": [
    "    \n",
    "Import the resulting CSV file and insert into a Pandas Dataframe for data analysis.<br>\n",
    "\n"
   ]
  },
  {
   "cell_type": "code",
   "execution_count": 6,
   "metadata": {
    "pycharm": {
     "name": "#%%\n"
    },
    "scrolled": false
   },
   "outputs": [],
   "source": [
    "    # Import CSV dataset and convert to dataframe.\n",
    "    multi_company_tweets_df = tweet_util_v2.import_dataset(\n",
    "        \"D:/Dropbox/summer-research-2019/jupyter-notebooks/attribute-datasets/multi-company-tweets-7-10-19.csv\",\n",
    "        \"csv\", False)"
   ]
  },
  {
   "cell_type": "markdown",
   "metadata": {},
   "source": [
    "    \n",
    "The shape, column (attribute) names, and the first Tweet in the dataframe will be outputted if the last parameter in the function call is set to \"True\".<br>\n",
    "\n",
    "Note: Dataframe info disabled at the moment.  Change boolean from \"false\" to \"true\", if desired.<br>\n",
    "\n"
   ]
  },
  {
   "cell_type": "markdown",
   "metadata": {},
   "source": [
    "## Simple Analysis using Pandas.describe():"
   ]
  },
  {
   "cell_type": "markdown",
   "metadata": {},
   "source": [
    "\n",
    "Statistics for every attribute in the CSV dataset containing just multi-company associated Tweets.<br>\n",
    "\n"
   ]
  },
  {
   "cell_type": "code",
   "execution_count": 7,
   "metadata": {},
   "outputs": [],
   "source": [
    "def attribute_describe(input_file_path, attribute_name_list, file_type):\n",
    "    \"\"\"\n",
    "    Function utilizes Pandas \"describe\" function to return dataframe statistics.\n",
    "\n",
    "    https://chrisalbon.com/python/data_wrangling/pandas_dataframe_descriptive_stats/\n",
    "\n",
    "    Note: This function will not work for attributes whose values are \"objects\" themselves.\n",
    "    (can only be numeric type or string)\n",
    "\n",
    "    :param input_file_path: absolute file path of the dataset in CSV or JSON format.\n",
    "    :param attribute_name_list:  list of names of the attributes we are analyzing.\n",
    "    :param file_type: type of input file. (JSON or CSV)\n",
    "    :return: None.\n",
    "    \"\"\"\n",
    "    start_time = time.time()\n",
    "\n",
    "    if file_type == \"csv\":\n",
    "        twitter_data = pd.read_csv(f\"{input_file_path}\", sep=\",\")\n",
    "    elif file_type == \"json\":\n",
    "        twitter_data = pd.read_json(f\"{input_file_path}\", orient='records', lines=True)\n",
    "    else:\n",
    "        print(f\"Invalid file type entered - aborting operation\")\n",
    "        return\n",
    "\n",
    "    # Create a empty Pandas dataframe.\n",
    "    dataframe = pd.DataFrame(twitter_data)\n",
    "\n",
    "    if len(attribute_name_list) > 0:\n",
    "        for attribute_name in attribute_name_list:\n",
    "            print(f\"\\nPandas describe() for \\\"{attribute_name}\\\":\\n\")\n",
    "            print(dataframe[attribute_name].describe(include='all'))\n",
    "    else:\n",
    "        print(f\"\\nPandas describe() for the entire dataframe/dataset:\\n\")\n",
    "        print(dataframe.describe(include='all'))\n",
    "\n",
    "    end_time = time.time()\n",
    "    time_elapsed_seconds = end_time - start_time\n",
    "    time_elapsed_minutes = (end_time - start_time) / 60.0\n",
    "    time_elapsed_hours = (end_time - start_time) / 60.0 / 60.0\n",
    "    log.debug(f\"The time taken to visualize the statistics is {time_elapsed_seconds} seconds, \"\n",
    "              f\"{time_elapsed_minutes} minutes, {time_elapsed_hours} hours\")"
   ]
  },
  {
   "cell_type": "markdown",
   "metadata": {},
   "source": [
    "\n",
    "Call the above function.<br>\n",
    "\n"
   ]
  },
  {
   "cell_type": "code",
   "execution_count": 11,
   "metadata": {
    "pycharm": {
     "name": "#%%\n"
    },
    "scrolled": true
   },
   "outputs": [
    {
     "name": "stdout",
     "output_type": "stream",
     "text": [
      "\n",
      "Pandas describe() for the entire dataframe/dataset:\n",
      "\n",
      "       retweeted_derived company_derived  \\\n",
      "count               8205            8205   \n",
      "unique                 2              80   \n",
      "top                 True    bhp|riotinto   \n",
      "freq                4662            3573   \n",
      "mean                 NaN             NaN   \n",
      "std                  NaN             NaN   \n",
      "min                  NaN             NaN   \n",
      "25%                  NaN             NaN   \n",
      "50%                  NaN             NaN   \n",
      "75%                  NaN             NaN   \n",
      "max                  NaN             NaN   \n",
      "\n",
      "                                                                                                                                                                        text_derived  \\\n",
      "count                                                                                                                                                                           8205   \n",
      "unique                                                                                                                                                                          4842   \n",
      "top     RT @WorldOfMarkyD: \"donations\" to Josh Frydenberg's Liberal Party  í ½í²°Chevron $277,695 í ½í²°Woodside Energy $813,775 í ½í²°Santos $928,495 í ½í²°Yancoal $50,000  #QandA   \n",
      "freq                                                                                                                                                                             120   \n",
      "mean                                                                                                                                                                             NaN   \n",
      "std                                                                                                                                                                              NaN   \n",
      "min                                                                                                                                                                              NaN   \n",
      "25%                                                                                                                                                                              NaN   \n",
      "50%                                                                                                                                                                              NaN   \n",
      "75%                                                                                                                                                                              NaN   \n",
      "max                                                                                                                                                                              NaN   \n",
      "\n",
      "                                 tweet_url_link_derived  \\\n",
      "count                                              8205   \n",
      "unique                                             8205   \n",
      "top     https://twitter.com/-/status/510418417585631233   \n",
      "freq                                                  1   \n",
      "mean                                                NaN   \n",
      "std                                                 NaN   \n",
      "min                                                 NaN   \n",
      "25%                                                 NaN   \n",
      "50%                                                 NaN   \n",
      "75%                                                 NaN   \n",
      "max                                                 NaN   \n",
      "\n",
      "        multiple_companies_derived_count company_derived_designation  \\\n",
      "count                  8205.000000000000                        8205   \n",
      "unique                               NaN                           1   \n",
      "top                                  NaN                    multiple   \n",
      "freq                                 NaN                        8205   \n",
      "mean                      2.078001218769                         NaN   \n",
      "std                       0.280627392283                         NaN   \n",
      "min                       2.000000000000                         NaN   \n",
      "25%                       2.000000000000                         NaN   \n",
      "50%                       2.000000000000                         NaN   \n",
      "75%                       2.000000000000                         NaN   \n",
      "max                       6.000000000000                         NaN   \n",
      "\n",
      "        tweet_text_length_derived spaCy_language_detect_all_tweets  \\\n",
      "count           8205.000000000000                             8205   \n",
      "unique                        NaN                               13   \n",
      "top                           NaN                               en   \n",
      "freq                          NaN                             8059   \n",
      "mean             162.667154174284                              NaN   \n",
      "std               69.140287292720                              NaN   \n",
      "min               33.000000000000                              NaN   \n",
      "25%              131.000000000000                              NaN   \n",
      "50%              145.000000000000                              NaN   \n",
      "75%              170.000000000000                              NaN   \n",
      "max              966.000000000000                              NaN   \n",
      "\n",
      "        user_description_text_length     tweet_created_at            tweet_id  \\\n",
      "count              8205.000000000000                 8205  8.205000000000e+03   \n",
      "unique                           NaN                 8172                 NaN   \n",
      "top                              NaN  2015-04-14 21:04:00                 NaN   \n",
      "freq                             NaN                    4                 NaN   \n",
      "mean                110.854600853138                  NaN  7.496846179599e+17   \n",
      "std                  51.077702418962                  NaN  1.839831406863e+17   \n",
      "min                   0.000000000000                  NaN  3.041654200956e+17   \n",
      "25%                  73.000000000000                  NaN  6.410934014928e+17   \n",
      "50%                 129.000000000000                  NaN  7.657490503018e+17   \n",
      "75%                 154.000000000000                  NaN  9.209719256769e+17   \n",
      "max                 469.000000000000                  NaN  9.941069613974e+17   \n",
      "\n",
      "                                                                                                                                                              tweet_full_text  \\\n",
      "count                                                                                                                                                                    8205   \n",
      "unique                                                                                                                                                                   4830   \n",
      "top     RT @WorldOfMarkyD: \"donations\" to Josh Frydenberg's Liberal Party\\n\\ní ½í²°Chevron $277,695\\ní ½í²°Woodside Energy $813,775\\ní ½í²°Santos $928,495\\ní ½í²°Yancoal $5…   \n",
      "freq                                                                                                                                                                      120   \n",
      "mean                                                                                                                                                                      NaN   \n",
      "std                                                                                                                                                                       NaN   \n",
      "min                                                                                                                                                                       NaN   \n",
      "25%                                                                                                                                                                       NaN   \n",
      "50%                                                                                                                                                                       NaN   \n",
      "75%                                                                                                                                                                       NaN   \n",
      "max                                                                                                                                                                       NaN   \n",
      "\n",
      "        tweet_in_reply_to_status_id  tweet_in_reply_to_user_id  \\\n",
      "count            4.810000000000e+02         6.920000000000e+02   \n",
      "unique                          NaN                        NaN   \n",
      "top                             NaN                        NaN   \n",
      "freq                            NaN                        NaN   \n",
      "mean             7.935340266189e+17         4.251003135182e+16   \n",
      "std              1.942942130130e+17         1.848749829722e+17   \n",
      "min              3.057889830472e+17         1.084600000000e+04   \n",
      "25%              6.607453092372e+17         6.617387150000e+07   \n",
      "50%              8.791672846604e+17         3.735381750000e+08   \n",
      "75%              9.477883637462e+17         2.220388494000e+09   \n",
      "max              9.929578805244e+17         9.582867358881e+17   \n",
      "\n",
      "       tweet_in_reply_to_screen_name  tweet_retweet_count  \\\n",
      "count                            692    8205.000000000000   \n",
      "unique                           398                  NaN   \n",
      "top                              bhp                  NaN   \n",
      "freq                              98                  NaN   \n",
      "mean                             NaN      25.953443022547   \n",
      "std                              NaN      56.180850247862   \n",
      "min                              NaN       0.000000000000   \n",
      "25%                              NaN       0.000000000000   \n",
      "50%                              NaN       4.000000000000   \n",
      "75%                              NaN      24.000000000000   \n",
      "max                              NaN     327.000000000000   \n",
      "\n",
      "        tweet_favorite_count tweet_lang             user_id  \\\n",
      "count      8205.000000000000       8205  8.205000000000e+03   \n",
      "unique                   NaN         14                 NaN   \n",
      "top                      NaN         en                 NaN   \n",
      "freq                     NaN       8027                 NaN   \n",
      "mean          0.563924436319        NaN  1.294156591208e+16   \n",
      "std           4.778360657641        NaN  1.015559994704e+17   \n",
      "min           0.000000000000        NaN  6.380230000000e+05   \n",
      "25%           0.000000000000        NaN  5.328845800000e+07   \n",
      "50%           0.000000000000        NaN  2.362532220000e+08   \n",
      "75%           0.000000000000        NaN  7.670088250000e+08   \n",
      "max         173.000000000000        NaN  9.640148464580e+17   \n",
      "\n",
      "                   user_name user_screen_name user_location  \\\n",
      "count                   8205             8205          7253   \n",
      "unique                  2642             2674           915   \n",
      "top     Wealth Planning Ptrs         WealthPP     Australia   \n",
      "freq                     365              365          2114   \n",
      "mean                     NaN              NaN           NaN   \n",
      "std                      NaN              NaN           NaN   \n",
      "min                      NaN              NaN           NaN   \n",
      "25%                      NaN              NaN           NaN   \n",
      "50%                      NaN              NaN           NaN   \n",
      "75%                      NaN              NaN           NaN   \n",
      "max                      NaN              NaN           NaN   \n",
      "\n",
      "                                                                                                                                                  user_description  \\\n",
      "count                                                                                                                                                         7737   \n",
      "unique                                                                                                                                                        2474   \n",
      "top     @WealthPP has a team of finanacial advisers helping clients Australia-wide with 'The WPP Way' to Secure. Build. Succeed. FPA. AFA. MDRT. SMSFA. #FSPOWER50   \n",
      "freq                                                                                                                                                           365   \n",
      "mean                                                                                                                                                           NaN   \n",
      "std                                                                                                                                                            NaN   \n",
      "min                                                                                                                                                            NaN   \n",
      "25%                                                                                                                                                            NaN   \n",
      "50%                                                                                                                                                            NaN   \n",
      "75%                                                                                                                                                            NaN   \n",
      "max                                                                                                                                                            NaN   \n",
      "\n",
      "        user_followers_count  user_friends_count   user_listed_count  \\\n",
      "count     8.205000000000e+03   8205.000000000000   8205.000000000000   \n",
      "unique                   NaN                 NaN                 NaN   \n",
      "top                      NaN                 NaN                 NaN   \n",
      "freq                     NaN                 NaN                 NaN   \n",
      "mean      1.275867580743e+04   2138.394759293114    264.165386959171   \n",
      "std       6.871462255796e+04   2752.658463348266    638.416864557154   \n",
      "min       0.000000000000e+00      0.000000000000      0.000000000000   \n",
      "25%       7.600000000000e+02    648.000000000000     39.000000000000   \n",
      "50%       1.978000000000e+03   1333.000000000000     94.000000000000   \n",
      "75%       4.118000000000e+03   2593.000000000000    252.000000000000   \n",
      "max       1.467103000000e+06  40189.000000000000  11382.000000000000   \n",
      "\n",
      "        user_favourites_count  user_statuses_count  \\\n",
      "count       8205.000000000000   8.205000000000e+03   \n",
      "unique                    NaN                  NaN   \n",
      "top                       NaN                  NaN   \n",
      "freq                      NaN                  NaN   \n",
      "mean       24596.169165143205   8.111386264473e+04   \n",
      "std        62674.039704192212   1.247029369488e+05   \n",
      "min            0.000000000000   3.100000000000e+01   \n",
      "25%          457.000000000000   1.233700000000e+04   \n",
      "50%         3780.000000000000   3.432700000000e+04   \n",
      "75%        21134.000000000000   8.954700000000e+04   \n",
      "max       721108.000000000000   1.340700000000e+06   \n",
      "\n",
      "                       user_created_at user_time_zone user_lang  \\\n",
      "count                             8205           8205      8205   \n",
      "unique                            2674             35         8   \n",
      "top     Fri Nov 05 07:56:47 +0000 2010         Sydney        en   \n",
      "freq                               365           2808      7902   \n",
      "mean                               NaN            NaN       NaN   \n",
      "std                                NaN            NaN       NaN   \n",
      "min                                NaN            NaN       NaN   \n",
      "25%                                NaN            NaN       NaN   \n",
      "50%                                NaN            NaN       NaN   \n",
      "75%                                NaN            NaN       NaN   \n",
      "max                                NaN            NaN       NaN   \n",
      "\n",
      "                                        tweet_entities_expanded_urls  \\\n",
      "count                                                           2786   \n",
      "unique                                                          1807   \n",
      "top     https://twitter.com/sarahinthesen8/status/919390789435768834   \n",
      "freq                                                              61   \n",
      "mean                                                             NaN   \n",
      "std                                                              NaN   \n",
      "min                                                              NaN   \n",
      "25%                                                              NaN   \n",
      "50%                                                              NaN   \n",
      "75%                                                              NaN   \n",
      "max                                                              NaN   \n",
      "\n",
      "       tweet_entities_hashtags tweet_entities_user_mentions_id  \\\n",
      "count                     3535                            8205   \n",
      "unique                     895                            1561   \n",
      "top                     ausbiz                              []   \n",
      "freq                       389                            2206   \n",
      "mean                       NaN                             NaN   \n",
      "std                        NaN                             NaN   \n",
      "min                        NaN                             NaN   \n",
      "25%                        NaN                             NaN   \n",
      "50%                        NaN                             NaN   \n",
      "75%                        NaN                             NaN   \n",
      "max                        NaN                             NaN   \n",
      "\n",
      "       tweet_entities_user_mentions_name  \\\n",
      "count                               5999   \n",
      "unique                              1546   \n",
      "top                  HRH Terry Australis   \n",
      "freq                                 565   \n",
      "mean                                 NaN   \n",
      "std                                  NaN   \n",
      "min                                  NaN   \n",
      "25%                                  NaN   \n",
      "50%                                  NaN   \n",
      "75%                                  NaN   \n",
      "max                                  NaN   \n",
      "\n",
      "       tweet_entities_user_mentions_screen_name tweet_entities_symbols  \n",
      "count                                      5999                    328  \n",
      "unique                                     1560                     90  \n",
      "top                              AustralisTerry                BHP,RIO  \n",
      "freq                                        565                     42  \n",
      "mean                                        NaN                    NaN  \n",
      "std                                         NaN                    NaN  \n",
      "min                                         NaN                    NaN  \n",
      "25%                                         NaN                    NaN  \n",
      "50%                                         NaN                    NaN  \n",
      "75%                                         NaN                    NaN  \n",
      "max                                         NaN                    NaN  \n"
     ]
    }
   ],
   "source": [
    "    # Analyze the multi-company associated Tweets.\n",
    "    attribute_describe(\"D:/Dropbox/summer-research-2019/jupyter-notebooks/attribute-datasets/\"\n",
    "                       \"data-analysis-datasets/multi-company-tweets-7-10-19.csv\",\n",
    "                       [], \"csv\")"
   ]
  },
  {
   "cell_type": "markdown",
   "metadata": {},
   "source": [
    "\n",
    "After looking at the Tweets directly in Microsoft Excel by loading the CSV dataset file, we have decided to include multi-company associated Tweets in our SLO Twitter data analysis statistics and graphs for the various sections listed in the Jupyter Notebook file titled \"slo-twitter-data-analysis-table-of-contents.ipynb\".<br>\n",
    "\n"
   ]
  },
  {
   "cell_type": "markdown",
   "metadata": {},
   "source": [
    "## Count of Tweets Assumed to be Stock Associated Tweets:"
   ]
  },
  {
   "cell_type": "code",
   "execution_count": 12,
   "metadata": {},
   "outputs": [
    {
     "name": "stdout",
     "output_type": "stream",
     "text": [
      "The # of multi-company associated Tweets assumed to be stock Tweets is 122\n",
      "The percentage of multi-company associated Tweets assumed to be stock Tweets is 1.4868982327848872%\n",
      "Note: This is based on the conditions that the # of associated companies is greater than 2 and there are stock symbols found in the Tweet.\n"
     ]
    }
   ],
   "source": [
    "    # Determine count of stock symbols.\n",
    "    multi_company_tweets_df['#symbols'] = multi_company_tweets_df.text_derived.str.findall(r\"\\$\\w+\").apply(len)\n",
    "\n",
    "    # Tweets with over 2 company assignments and possessing stock symbols are assumed to be stock Tweets.\n",
    "    assumed_stock_tweets = multi_company_tweets_df.loc[\n",
    "        (multi_company_tweets_df[\"multiple_companies_derived_count\"] > 2) & (multi_company_tweets_df['#symbols'] > 0)]\n",
    "    print(f\"The # of multi-company associated Tweets assumed to be stock Tweets is {assumed_stock_tweets.shape[0]}\")\n",
    "    print(f\"The percentage of multi-company associated Tweets assumed to be stock Tweets is \"\n",
    "          f\"{assumed_stock_tweets.shape[0] / multi_company_tweets_df.shape[0] * 100}%\")\n",
    "    print(f\"Note: This is based on the conditions that the # of associated companies is greater than 2 and \"\n",
    "          f\"there are stock symbols found in the Tweet.\")"
   ]
  },
  {
   "cell_type": "markdown",
   "metadata": {},
   "source": [
    "## Simple Check for non-Company associated Tweets:"
   ]
  },
  {
   "cell_type": "markdown",
   "metadata": {},
   "source": [
    "\n",
    "The code provides a means by which we can use Pandas to check for any Tweets in our dataset which has a value or lacks a value for a specific attribute or set of attributes.<br>\n",
    "\n"
   ]
  },
  {
   "cell_type": "code",
   "execution_count": 13,
   "metadata": {},
   "outputs": [],
   "source": [
    "def count_nan_non_nan(input_file_path, attribute_name_list, file_type):\n",
    "    \"\"\"\n",
    "    Function counts the number of NaN and non-Nan examples in a Pandas dataframe for the specified columns.\n",
    "\n",
    "    :param input_file_path: absolute file path of the dataset in CSV or JSON format.\n",
    "    :param attribute_name_list:  list of names of the attributes we are analyzing.\n",
    "    :param file_type: type of input file. (JSON or CSV)\n",
    "    :return: None.\n",
    "    \"\"\"\n",
    "    start_time = time.time()\n",
    "\n",
    "    if file_type == \"csv\":\n",
    "        twitter_data = pd.read_csv(f\"{input_file_path}\", sep=\",\", encoding=\"ISO-8859-1\", dtype=object)\n",
    "    elif file_type == \"json\":\n",
    "        twitter_data = pd.read_json(f\"{input_file_path}\", orient='records', lines=True)\n",
    "    else:\n",
    "        print(f\"Invalid file type entered - aborting operation\")\n",
    "        return\n",
    "\n",
    "    # Create a empty Pandas dataframe.\n",
    "    dataframe = pd.DataFrame(twitter_data)\n",
    "\n",
    "    number_examples = dataframe.shape[0]\n",
    "    number_attributes = dataframe.shape[1]\n",
    "    print(f\"\\nThe number of rows (examples) in the dataframe is {number_examples}\")\n",
    "    print(f\"The number of columns (attributes) in the dataframe is {number_attributes}\\n\")\n",
    "\n",
    "    for attribute_name in attribute_name_list:\n",
    "        null_examples = dataframe[attribute_name].isnull().sum()\n",
    "        non_null_examples = number_examples - null_examples\n",
    "\n",
    "        print(f\"The number of NaN rows for \\\"{attribute_name}\\\" is {null_examples}\")\n",
    "        print(f\"The number of non-NaN rows for \\\"{attribute_name}\\\" is {non_null_examples}\\n\")\n",
    "\n",
    "    end_time = time.time()\n",
    "    time_elapsed_seconds = end_time - start_time\n",
    "    time_elapsed_minutes = (end_time - start_time) / 60.0\n",
    "    time_elapsed_hours = (end_time - start_time) / 60.0 / 60.0\n",
    "    log.debug(f\"The time taken to visualize the statistics is {time_elapsed_seconds} seconds, \"\n",
    "              f\"{time_elapsed_minutes} minutes, {time_elapsed_hours} hours\")"
   ]
  },
  {
   "cell_type": "markdown",
   "metadata": {},
   "source": [
    "\n",
    "Call data analysis function to check for any Tweets that aren't associated with a company at all.<br>\n",
    "\n"
   ]
  },
  {
   "cell_type": "code",
   "execution_count": 14,
   "metadata": {},
   "outputs": [
    {
     "name": "stdout",
     "output_type": "stream",
     "text": [
      "\n",
      "The number of rows (examples) in the dataframe is 654618\n",
      "The number of columns (attributes) in the dataframe is 37\n",
      "\n",
      "The number of NaN rows for \"company_derived\" is 0\n",
      "The number of non-NaN rows for \"company_derived\" is 654618\n",
      "\n"
     ]
    }
   ],
   "source": [
    "    # # Determine the number of non-Company associated Tweets.\n",
    "    count_nan_non_nan(\n",
    "        \"D:/Dropbox/summer-research-2019/jupyter-notebooks/attribute-datasets/twitter-dataset-7-10-19-with-irrelevant-tweets-excluded.csv\",\n",
    "        [\"company_derived\"], \"csv\")"
   ]
  },
  {
   "cell_type": "markdown",
   "metadata": {},
   "source": [
    "\n",
    "It appears that 1,057 Tweets are not associated with any companies.  We may consider dropping those from our dataset in the future for SLO topic extraction or stance/sentiment analysis via machine learning.<br>\n",
    "\n"
   ]
  },
  {
   "cell_type": "markdown",
   "metadata": {},
   "source": [
    "## Tweet Company Assignment Counts:"
   ]
  },
  {
   "cell_type": "markdown",
   "metadata": {},
   "source": [
    "\n",
    "The # of Tweets associated with each company in our dataset.<br>\n",
    "\n"
   ]
  },
  {
   "cell_type": "code",
   "execution_count": 15,
   "metadata": {
    "scrolled": true
   },
   "outputs": [
    {
     "name": "stdout",
     "output_type": "stream",
     "text": [
      "The total number of Tweets in the dataset is: 654618\n",
      "The number of Tweets associated with adani is 424437\n",
      "The number of Tweets associated with multiple is 8205\n",
      "The number of Tweets associated with bhp is 63039\n",
      "The number of Tweets associated with cuesta is 101\n",
      "The number of Tweets associated with fortescue is 11646\n",
      "The number of Tweets associated with iluka is 2961\n",
      "The number of Tweets associated with newmont is 888\n",
      "The number of Tweets associated with oilsearch is 1554\n",
      "The number of Tweets associated with riotinto is 25371\n",
      "The number of Tweets associated with santos is 86279\n",
      "The number of Tweets associated with whitehaven is 14718\n",
      "The number of Tweets associated with woodside is 15419\n"
     ]
    }
   ],
   "source": [
    "    total_tweets = tweet_dataframe.shape[0]\n",
    "    adani = tweet_dataframe.loc[tweet_dataframe[\"company_derived_designation\"] == \"adani\"]\n",
    "    multiple = tweet_dataframe.loc[tweet_dataframe[\"company_derived_designation\"] == \"multiple\"]\n",
    "    bhp = tweet_dataframe.loc[tweet_dataframe[\"company_derived_designation\"] == \"bhp\"]\n",
    "    cuesta = tweet_dataframe.loc[tweet_dataframe[\"company_derived_designation\"] == \"cuesta\"]\n",
    "    fortescue = tweet_dataframe.loc[tweet_dataframe[\"company_derived_designation\"] == \"fortescue\"]\n",
    "    iluka = tweet_dataframe.loc[tweet_dataframe[\"company_derived_designation\"] == \"iluka\"]\n",
    "    newmont = tweet_dataframe.loc[tweet_dataframe[\"company_derived_designation\"] == \"newmont\"]\n",
    "    oilsearch = tweet_dataframe.loc[tweet_dataframe[\"company_derived_designation\"] == \"oilsearch\"]\n",
    "    riotinto = tweet_dataframe.loc[tweet_dataframe[\"company_derived_designation\"] == \"riotinto\"]\n",
    "    santos = tweet_dataframe.loc[tweet_dataframe[\"company_derived_designation\"] == \"santos\"]\n",
    "    whitehaven = tweet_dataframe.loc[tweet_dataframe[\"company_derived_designation\"] == \"whitehaven\"]\n",
    "    woodside = tweet_dataframe.loc[tweet_dataframe[\"company_derived_designation\"] == \"woodside\"]\n",
    "\n",
    "    print(f\"The total number of Tweets in the dataset is: {total_tweets}\")\n",
    "    print(f\"The number of Tweets associated with adani is {adani.shape[0]}\")\n",
    "    print(f\"The number of Tweets associated with multiple is {multiple.shape[0]}\")\n",
    "    print(f\"The number of Tweets associated with bhp is {bhp.shape[0]}\")\n",
    "    print(f\"The number of Tweets associated with cuesta is {cuesta.shape[0]}\")\n",
    "    print(f\"The number of Tweets associated with fortescue is {fortescue.shape[0]}\")\n",
    "    print(f\"The number of Tweets associated with iluka is {iluka.shape[0]}\")\n",
    "    print(f\"The number of Tweets associated with newmont is {newmont.shape[0]}\")\n",
    "    print(f\"The number of Tweets associated with oilsearch is {oilsearch.shape[0]}\")\n",
    "    print(f\"The number of Tweets associated with riotinto is {riotinto.shape[0]}\")\n",
    "    print(f\"The number of Tweets associated with santos is {santos.shape[0]}\")\n",
    "    print(f\"The number of Tweets associated with whitehaven is {whitehaven.shape[0]}\")\n",
    "    print(f\"The number of Tweets associated with woodside is {woodside.shape[0]}\")"
   ]
  },
  {
   "cell_type": "markdown",
   "metadata": {},
   "source": [
    "\n",
    "Most Tweets are associated with Adani.<br>\n",
    "\n"
   ]
  },
  {
   "cell_type": "code",
   "execution_count": null,
   "metadata": {},
   "outputs": [],
   "source": []
  }
 ],
 "metadata": {
  "kernelspec": {
   "display_name": "Python 3",
   "language": "python",
   "name": "python3"
  },
  "language_info": {
   "codemirror_mode": {
    "name": "ipython",
    "version": 3
   },
   "file_extension": ".py",
   "mimetype": "text/x-python",
   "name": "python",
   "nbconvert_exporter": "python",
   "pygments_lexer": "ipython3",
   "version": "3.6.8"
  },
  "pycharm": {
   "stem_cell": {
    "cell_type": "raw",
    "metadata": {
     "collapsed": false
    },
    "source": []
   }
  }
 },
 "nbformat": 4,
 "nbformat_minor": 1
}
