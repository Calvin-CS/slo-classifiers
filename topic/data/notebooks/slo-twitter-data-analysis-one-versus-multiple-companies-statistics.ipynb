{
 "cells": [
  {
   "cell_type": "markdown",
   "metadata": {},
   "source": [
    "# Single-Company versus Multi-Company Associated Tweets"
   ]
  },
  {
   "cell_type": "markdown",
   "metadata": {},
   "source": [
    "Setup the Jupyter Notebook kernel for SLO data analysis."
   ]
  },
  {
   "cell_type": "code",
   "execution_count": 3,
   "metadata": {},
   "outputs": [
    {
     "name": "stderr",
     "output_type": "stream",
     "text": [
      "d:\\dropbox\\cs344-ai\\venv3.6-64bit\\lib\\site-packages\\IPython\\core\\interactiveshell.py:3209: DtypeWarning: Columns (36) have mixed types. Specify dtype option on import or set low_memory=False.\n",
      "  if (yield from self.run_code(code, result)):\n"
     ]
    }
   ],
   "source": [
    "import logging as log\n",
    "import warnings\n",
    "import time\n",
    "from matplotlib import pyplot as plt\n",
    "import pandas as pd\n",
    "import seaborn as sns\n",
    "\n",
    "# Import custom utility functions.\n",
    "import slo_twitter_data_analysis_utility_functions as tweet_util_v2\n",
    "\n",
    "#############################################################\n",
    "# Adjust parameters to display all contents.\n",
    "pd.options.display.max_rows = None\n",
    "pd.options.display.max_columns = None\n",
    "pd.options.display.width = None\n",
    "pd.options.display.max_colwidth = 1000\n",
    "# Seaborn setting.\n",
    "sns.set()\n",
    "# Set level of precision for float value output.\n",
    "pd.set_option('precision', 12)\n",
    "# Ignore these types of warnings - don't output to console.\n",
    "warnings.simplefilter(action='ignore', category=FutureWarning)\n",
    "warnings.simplefilter(action='ignore', category=DeprecationWarning)\n",
    "warnings.simplefilter(action='ignore', category=UserWarning)\n",
    "# Matplotlib log settings.\n",
    "mylog = log.getLogger(\"matplotlib\")\n",
    "mylog.setLevel(log.INFO)\n",
    "\n",
    "\"\"\"\n",
    "Turn debug log statements for various sections of code on/off.\n",
    "(adjust log level as necessary)\n",
    "\"\"\"\n",
    "log.basicConfig(level=log.INFO)\n",
    "\n",
    "\n",
    "# Import CSV dataset and convert to dataframe.\n",
    "tweet_dataframe = tweet_util_v2.import_dataset(\n",
    "    \"D:/Dropbox/summer-research-2019/jupyter-notebooks/attribute-datasets/\"\n",
    "    \"twitter-dataset-6-27-19.csv\",\n",
    "    \"csv\", False)"
   ]
  },
  {
   "cell_type": "markdown",
   "metadata": {},
   "source": [
    "## Single or Multiple Companies:"
   ]
  },
  {
   "cell_type": "markdown",
   "metadata": {},
   "source": [
    "\n",
    "This function displays the number of Tweets associated with only one company or associated with multiple companies.\n",
    "\n"
   ]
  },
  {
   "cell_type": "code",
   "execution_count": 1,
   "metadata": {
    "pycharm": {
     "name": "#%%\n"
    }
   },
   "outputs": [],
   "source": [
    "def tweets_number_associated_companies(tweet_dataframe):\n",
    "    \"\"\"\n",
    "    Function displays statistics on the # of Tweets associated with one versus multiple companies.\n",
    "\n",
    "    :param tweet_dataframe: the Twitter dataset in a Pandas dataframe.\n",
    "    :return: None.\n",
    "    \"\"\"\n",
    "    # Number of rows in entire dataframe.\n",
    "    number_rows_total = tweet_dataframe.shape[0]\n",
    "    print(f\"The # of Tweets in total is {number_rows_total}\")\n",
    "\n",
    "    has_company = pd.DataFrame(tweet_dataframe.loc[tweet_dataframe['company_derived_designation'].notnull()])\n",
    "    print(f\"The # of Tweets associated with at least one company is {has_company.shape[0]}\")\n",
    "\n",
    "    # Select only rows with one associated company. (don't graph company combos)\n",
    "    single_company_only_df = has_company.loc[\n",
    "        (has_company['company_derived_designation'].str.contains(\"multiple\") == False)]\n",
    "\n",
    "    # Number of rows associated with only one company.\n",
    "    number_rows_one_company = single_company_only_df.shape[0]\n",
    "\n",
    "    print(f\"The # of Tweets associated with multiple companies is {has_company.shape[0] - number_rows_one_company}\")\n",
    "    print(f\"The # of Tweets associated with one company is {number_rows_one_company}\")\n",
    "    print(f\"The # of Tweets associated with no company is {number_rows_total - has_company.shape[0]}\")\n",
    "\n",
    "    percent_single = number_rows_one_company / number_rows_total * 100.0\n",
    "    percent_multiple = (number_rows_total - number_rows_one_company) / number_rows_total * 100.0\n",
    "\n",
    "    print(f\"The percentage of the dataset associated with a single company is {percent_single}%\")\n",
    "    print(f\"The percentage of the dataset associated with multiple companies is {percent_multiple}%\")"
   ]
  },
  {
   "cell_type": "markdown",
   "metadata": {},
   "source": [
    "\n",
    "Call the data analysis function.<br>\n",
    "\n"
   ]
  },
  {
   "cell_type": "code",
   "execution_count": 4,
   "metadata": {
    "pycharm": {
     "name": "#%%\n"
    }
   },
   "outputs": [
    {
     "name": "stdout",
     "output_type": "stream",
     "text": [
      "The # of Tweets in total is 670423\n",
      "The # of Tweets associated with at least one company is 669366\n",
      "The # of Tweets associated with multiple companies is 8278\n",
      "The # of Tweets associated with one company is 661088\n",
      "The # of Tweets associated with no company is 1057\n",
      "The percentage of the dataset associated with a single company is 98.60759550313757%\n",
      "The percentage of the dataset associated with multiple companies is 1.3924044968624287%\n"
     ]
    }
   ],
   "source": [
    "    # Tweets associated with one or multiple companies.\n",
    "    tweets_number_associated_companies(tweet_dataframe)"
   ]
  },
  {
   "cell_type": "markdown",
   "metadata": {},
   "source": [
    "\n",
    "The majority of our Tweets are only associated with a single company.  However, a small percentage are associated with multiple companies.<br>\n",
    "\n"
   ]
  },
  {
   "cell_type": "markdown",
   "metadata": {},
   "source": [
    "## Export multi-company associated Tweets to separate CSV file:"
   ]
  },
  {
   "cell_type": "markdown",
   "metadata": {},
   "source": [
    "    \n",
    "Function isolates and exports to a new CSV file all Tweets that are associated with more than one company.<br>\n",
    "\n"
   ]
  },
  {
   "cell_type": "code",
   "execution_count": 5,
   "metadata": {
    "pycharm": {
     "name": "#%%\n"
    }
   },
   "outputs": [],
   "source": [
    "    # Isolate multi-company associated Tweets for data analysis and export to new CSV file.\n",
    "    tweet_util_v2.export_multi_company_tweets(tweet_dataframe)"
   ]
  },
  {
   "cell_type": "markdown",
   "metadata": {},
   "source": [
    "    \n",
    "Import the resulting CSV file and insert into a Pandas Dataframe for data analysis.<br>\n",
    "\n"
   ]
  },
  {
   "cell_type": "code",
   "execution_count": 6,
   "metadata": {
    "pycharm": {
     "name": "#%%\n"
    },
    "scrolled": false
   },
   "outputs": [],
   "source": [
    "    # Import CSV dataset and convert to dataframe.\n",
    "    multi_company_tweets_df = tweet_util_v2.import_dataset(\n",
    "        \"D:/Dropbox/summer-research-2019/jupyter-notebooks/attribute-datasets/multi-company-tweets-6-27-19.csv\",\n",
    "        \"csv\", False)"
   ]
  },
  {
   "cell_type": "markdown",
   "metadata": {},
   "source": [
    "    \n",
    "The shape, column (attribute) names, and the first Tweet in the dataframe will be outputted if the last parameter in the function call is set to \"True\".<br>\n",
    "\n",
    "Note: Dataframe info disabled at the moment.  Change boolean from \"false\" to \"true\", if desired.<br>\n",
    "\n"
   ]
  },
  {
   "cell_type": "markdown",
   "metadata": {},
   "source": [
    "## Simple Analysis using Pandas.describe():"
   ]
  },
  {
   "cell_type": "markdown",
   "metadata": {},
   "source": [
    "\n",
    "Statistics for every attribute in the CSV dataset containing just multi-company associated Tweets.<br>\n",
    "\n"
   ]
  },
  {
   "cell_type": "code",
   "execution_count": 8,
   "metadata": {},
   "outputs": [],
   "source": [
    "def attribute_describe(input_file_path, attribute_name_list, file_type):\n",
    "    \"\"\"\n",
    "    Function utilizes Pandas \"describe\" function to return dataframe statistics.\n",
    "\n",
    "    https://chrisalbon.com/python/data_wrangling/pandas_dataframe_descriptive_stats/\n",
    "\n",
    "    Note: This function will not work for attributes whose values are \"objects\" themselves.\n",
    "    (can only be numeric type or string)\n",
    "\n",
    "    :param input_file_path: absolute file path of the dataset in CSV or JSON format.\n",
    "    :param attribute_name_list:  list of names of the attributes we are analyzing.\n",
    "    :param file_type: type of input file. (JSON or CSV)\n",
    "    :return: None.\n",
    "    \"\"\"\n",
    "    start_time = time.time()\n",
    "\n",
    "    if file_type == \"csv\":\n",
    "        twitter_data = pd.read_csv(f\"{input_file_path}\", sep=\",\")\n",
    "    elif file_type == \"json\":\n",
    "        twitter_data = pd.read_json(f\"{input_file_path}\", orient='records', lines=True)\n",
    "    else:\n",
    "        print(f\"Invalid file type entered - aborting operation\")\n",
    "        return\n",
    "\n",
    "    # Create a empty Pandas dataframe.\n",
    "    dataframe = pd.DataFrame(twitter_data)\n",
    "\n",
    "    if len(attribute_name_list) > 0:\n",
    "        for attribute_name in attribute_name_list:\n",
    "            print(f\"\\nPandas describe() for \\\"{attribute_name}\\\":\\n\")\n",
    "            print(dataframe[attribute_name].describe(include='all'))\n",
    "    else:\n",
    "        print(f\"\\nPandas describe() for the entire dataframe/dataset:\\n\")\n",
    "        print(dataframe.describe(include='all'))\n",
    "\n",
    "    end_time = time.time()\n",
    "    time_elapsed_seconds = end_time - start_time\n",
    "    time_elapsed_minutes = (end_time - start_time) / 60.0\n",
    "    time_elapsed_hours = (end_time - start_time) / 60.0 / 60.0\n",
    "    log.debug(f\"The time taken to visualize the statistics is {time_elapsed_seconds} seconds, \"\n",
    "              f\"{time_elapsed_minutes} minutes, {time_elapsed_hours} hours\")"
   ]
  },
  {
   "cell_type": "markdown",
   "metadata": {},
   "source": [
    "\n",
    "Call the above function.<br>\n",
    "\n"
   ]
  },
  {
   "cell_type": "code",
   "execution_count": 10,
   "metadata": {
    "pycharm": {
     "name": "#%%\n"
    },
    "scrolled": true
   },
   "outputs": [
    {
     "name": "stdout",
     "output_type": "stream",
     "text": [
      "\n",
      "Pandas describe() for the entire dataframe/dataset:\n",
      "\n",
      "       retweeted_derived company_derived  \\\n",
      "count               8278            8278   \n",
      "unique                 2              81   \n",
      "top                 True    bhp|riotinto   \n",
      "freq                4691            3580   \n",
      "mean                 NaN             NaN   \n",
      "std                  NaN             NaN   \n",
      "min                  NaN             NaN   \n",
      "25%                  NaN             NaN   \n",
      "50%                  NaN             NaN   \n",
      "75%                  NaN             NaN   \n",
      "max                  NaN             NaN   \n",
      "\n",
      "                                                                                                                                                                                                text_derived  \\\n",
      "count                                                                                                                                                                                                   8278   \n",
      "unique                                                                                                                                                                                                  4909   \n",
      "top     RT @WorldOfMarkyD: \"donations\" to Josh Frydenberg's Liberal Party  Ã­Â Â½Ã­Â²Â°Chevron $277,695 Ã­Â Â½Ã­Â²Â°Woodside Energy $813,775 Ã­Â Â½Ã­Â²Â°Santos $928,495 Ã­Â Â½Ã­Â²Â°Yancoal $50,000  #QandA   \n",
      "freq                                                                                                                                                                                                     120   \n",
      "mean                                                                                                                                                                                                     NaN   \n",
      "std                                                                                                                                                                                                      NaN   \n",
      "min                                                                                                                                                                                                      NaN   \n",
      "25%                                                                                                                                                                                                      NaN   \n",
      "50%                                                                                                                                                                                                      NaN   \n",
      "75%                                                                                                                                                                                                      NaN   \n",
      "max                                                                                                                                                                                                      NaN   \n",
      "\n",
      "                                 tweet_url_link_derived  \\\n",
      "count                                              8278   \n",
      "unique                                             8278   \n",
      "top     https://twitter.com/-/status/436665262855569408   \n",
      "freq                                                  1   \n",
      "mean                                                NaN   \n",
      "std                                                 NaN   \n",
      "min                                                 NaN   \n",
      "25%                                                 NaN   \n",
      "50%                                                 NaN   \n",
      "75%                                                 NaN   \n",
      "max                                                 NaN   \n",
      "\n",
      "        multiple_companies_derived_count company_derived_designation  \\\n",
      "count                  8278.000000000000                        8278   \n",
      "unique                               NaN                           1   \n",
      "top                                  NaN                    multiple   \n",
      "freq                                 NaN                        8278   \n",
      "mean                      2.077554964967                         NaN   \n",
      "std                       0.279847408431                         NaN   \n",
      "min                       2.000000000000                         NaN   \n",
      "25%                       2.000000000000                         NaN   \n",
      "50%                       2.000000000000                         NaN   \n",
      "75%                       2.000000000000                         NaN   \n",
      "max                       6.000000000000                         NaN   \n",
      "\n",
      "        tweet_text_length_derived spaCy_language_detect_all_tweets  \\\n",
      "count           8278.000000000000                             8278   \n",
      "unique                        NaN                               18   \n",
      "top                           NaN                               en   \n",
      "freq                          NaN                             8064   \n",
      "mean             162.333534670210                              NaN   \n",
      "std               69.165251956031                              NaN   \n",
      "min               33.000000000000                              NaN   \n",
      "25%              130.000000000000                              NaN   \n",
      "50%              145.000000000000                              NaN   \n",
      "75%              169.000000000000                              NaN   \n",
      "max              966.000000000000                              NaN   \n",
      "\n",
      "        user_description_text_length     tweet_created_at            tweet_id  \\\n",
      "count              8278.000000000000                 8278  8.278000000000e+03   \n",
      "unique                           NaN                 8245                 NaN   \n",
      "top                              NaN  2015-04-14 21:04:00                 NaN   \n",
      "freq                             NaN                    4                 NaN   \n",
      "mean                110.693525006040                  NaN  7.494747026837e+17   \n",
      "std                  51.022995563061                  NaN  1.841955005951e+17   \n",
      "min                   0.000000000000                  NaN  3.041654200956e+17   \n",
      "25%                  73.000000000000                  NaN  6.410741847869e+17   \n",
      "50%                 129.000000000000                  NaN  7.657419682426e+17   \n",
      "75%                 154.000000000000                  NaN  9.209715645054e+17   \n",
      "max                 469.000000000000                  NaN  9.941069613974e+17   \n",
      "\n",
      "                                                                                                                                                                                        tweet_full_text  \\\n",
      "count                                                                                                                                                                                              8278   \n",
      "unique                                                                                                                                                                                             4897   \n",
      "top     RT @WorldOfMarkyD: \"donations\" to Josh Frydenberg's Liberal Party\\n\\nÃ­Â Â½Ã­Â²Â°Chevron $277,695\\nÃ­Â Â½Ã­Â²Â°Woodside Energy $813,775\\nÃ­Â Â½Ã­Â²Â°Santos $928,495\\nÃ­Â Â½Ã­Â²Â°Yancoal $5â¦   \n",
      "freq                                                                                                                                                                                                120   \n",
      "mean                                                                                                                                                                                                NaN   \n",
      "std                                                                                                                                                                                                 NaN   \n",
      "min                                                                                                                                                                                                 NaN   \n",
      "25%                                                                                                                                                                                                 NaN   \n",
      "50%                                                                                                                                                                                                 NaN   \n",
      "75%                                                                                                                                                                                                 NaN   \n",
      "max                                                                                                                                                                                                 NaN   \n",
      "\n",
      "        tweet_in_reply_to_status_id  tweet_in_reply_to_user_id  \\\n",
      "count            5.010000000000e+02         7.160000000000e+02   \n",
      "unique                          NaN                        NaN   \n",
      "top                             NaN                        NaN   \n",
      "freq                            NaN                        NaN   \n",
      "mean             7.839414720034e+17         4.108511411415e+16   \n",
      "std              2.005668029254e+17         1.819069131161e+17   \n",
      "min              3.057889830472e+17         1.084600000000e+04   \n",
      "25%              6.287705214427e+17         6.716280000000e+07   \n",
      "50%              8.726395267908e+17         3.490046220000e+08   \n",
      "75%              9.473910986783e+17         2.220388494000e+09   \n",
      "max              9.929578805244e+17         9.582867358881e+17   \n",
      "\n",
      "       tweet_in_reply_to_screen_name  tweet_retweet_count  \\\n",
      "count                            716    8278.000000000000   \n",
      "unique                           411                  NaN   \n",
      "top                              bhp                  NaN   \n",
      "freq                              99                  NaN   \n",
      "mean                             NaN      27.103044213578   \n",
      "std                              NaN      78.264353710045   \n",
      "min                              NaN       0.000000000000   \n",
      "25%                              NaN       0.000000000000   \n",
      "50%                              NaN       4.000000000000   \n",
      "75%                              NaN      24.000000000000   \n",
      "max                              NaN    3341.000000000000   \n",
      "\n",
      "        tweet_favorite_count tweet_lang             user_id  \\\n",
      "count      8278.000000000000       8278  8.278000000000e+03   \n",
      "unique                   NaN         17                 NaN   \n",
      "top                      NaN         en                 NaN   \n",
      "freq                     NaN       8027                 NaN   \n",
      "mean          0.561729886446        NaN  1.292414669930e+16   \n",
      "std           4.759200420934        NaN  1.014842796283e+17   \n",
      "min           0.000000000000        NaN  6.380230000000e+05   \n",
      "25%           0.000000000000        NaN  5.367433350000e+07   \n",
      "50%           0.000000000000        NaN  2.369191575000e+08   \n",
      "75%           0.000000000000        NaN  7.797293720000e+08   \n",
      "max         173.000000000000        NaN  9.640148464580e+17   \n",
      "\n",
      "                   user_name user_screen_name user_location  \\\n",
      "count                   8278             8278          7323   \n",
      "unique                  2659             2691           922   \n",
      "top     Wealth Planning Ptrs         WealthPP     Australia   \n",
      "freq                     365              365          2118   \n",
      "mean                     NaN              NaN           NaN   \n",
      "std                      NaN              NaN           NaN   \n",
      "min                      NaN              NaN           NaN   \n",
      "25%                      NaN              NaN           NaN   \n",
      "50%                      NaN              NaN           NaN   \n",
      "75%                      NaN              NaN           NaN   \n",
      "max                      NaN              NaN           NaN   \n",
      "\n",
      "                                                                                                                                                  user_description  \\\n",
      "count                                                                                                                                                         7807   \n",
      "unique                                                                                                                                                        2489   \n",
      "top     @WealthPP has a team of finanacial advisers helping clients Australia-wide with 'The WPP Way' to Secure. Build. Succeed. FPA. AFA. MDRT. SMSFA. #FSPOWER50   \n",
      "freq                                                                                                                                                           365   \n",
      "mean                                                                                                                                                           NaN   \n",
      "std                                                                                                                                                            NaN   \n",
      "min                                                                                                                                                            NaN   \n",
      "25%                                                                                                                                                            NaN   \n",
      "50%                                                                                                                                                            NaN   \n",
      "75%                                                                                                                                                            NaN   \n",
      "max                                                                                                                                                            NaN   \n",
      "\n",
      "        user_followers_count  user_friends_count   user_listed_count  \\\n",
      "count     8.278000000000e+03   8278.000000000000   8278.000000000000   \n",
      "unique                   NaN                 NaN                 NaN   \n",
      "top                      NaN                 NaN                 NaN   \n",
      "freq                     NaN                 NaN                 NaN   \n",
      "mean      1.266588572119e+04   2126.733872916163    262.376177820730   \n",
      "std       6.842097042327e+04   2745.048097171294    636.021381785985   \n",
      "min       0.000000000000e+00      0.000000000000      0.000000000000   \n",
      "25%       7.490000000000e+02    645.000000000000     38.000000000000   \n",
      "50%       1.936000000000e+03   1326.000000000000     93.000000000000   \n",
      "75%       4.108000000000e+03   2586.000000000000    252.000000000000   \n",
      "max       1.467103000000e+06  40189.000000000000  11382.000000000000   \n",
      "\n",
      "        user_favourites_count  user_statuses_count  \\\n",
      "count       8278.000000000000   8.278000000000e+03   \n",
      "unique                    NaN                  NaN   \n",
      "top                       NaN                  NaN   \n",
      "freq                      NaN                  NaN   \n",
      "mean       24430.624305387773   8.066870608843e+04   \n",
      "std        62428.520209139271   1.243000659236e+05   \n",
      "min            0.000000000000   3.100000000000e+01   \n",
      "25%          457.000000000000   1.220250000000e+04   \n",
      "50%         3780.000000000000   3.390250000000e+04   \n",
      "75%        21064.250000000000   8.950900000000e+04   \n",
      "max       721108.000000000000   1.340700000000e+06   \n",
      "\n",
      "                       user_created_at user_time_zone user_lang  \\\n",
      "count                             8278           8278      8278   \n",
      "unique                            2691             35         8   \n",
      "top     Fri Nov 05 07:56:47 +0000 2010         Sydney        en   \n",
      "freq                               365           2856      7969   \n",
      "mean                               NaN            NaN       NaN   \n",
      "std                                NaN            NaN       NaN   \n",
      "min                                NaN            NaN       NaN   \n",
      "25%                                NaN            NaN       NaN   \n",
      "50%                                NaN            NaN       NaN   \n",
      "75%                                NaN            NaN       NaN   \n",
      "max                                NaN            NaN       NaN   \n",
      "\n",
      "                                        tweet_entities_expanded_urls  \\\n",
      "count                                                           2804   \n",
      "unique                                                          1825   \n",
      "top     https://twitter.com/sarahinthesen8/status/919390789435768834   \n",
      "freq                                                              61   \n",
      "mean                                                             NaN   \n",
      "std                                                              NaN   \n",
      "min                                                              NaN   \n",
      "25%                                                              NaN   \n",
      "50%                                                              NaN   \n",
      "75%                                                              NaN   \n",
      "max                                                              NaN   \n",
      "\n",
      "       tweet_entities_hashtags tweet_entities_user_mentions_id  \\\n",
      "count                     3558                            8278   \n",
      "unique                     906                            1596   \n",
      "top                     ausbiz                              []   \n",
      "freq                       391                            2225   \n",
      "mean                       NaN                             NaN   \n",
      "std                        NaN                             NaN   \n",
      "min                        NaN                             NaN   \n",
      "25%                        NaN                             NaN   \n",
      "50%                        NaN                             NaN   \n",
      "75%                        NaN                             NaN   \n",
      "max                        NaN                             NaN   \n",
      "\n",
      "       tweet_entities_user_mentions_name  \\\n",
      "count                               6053   \n",
      "unique                              1581   \n",
      "top                  HRH Terry Australis   \n",
      "freq                                 565   \n",
      "mean                                 NaN   \n",
      "std                                  NaN   \n",
      "min                                  NaN   \n",
      "25%                                  NaN   \n",
      "50%                                  NaN   \n",
      "75%                                  NaN   \n",
      "max                                  NaN   \n",
      "\n",
      "       tweet_entities_user_mentions_screen_name tweet_entities_symbols  \n",
      "count                                      6053                    328  \n",
      "unique                                     1595                     90  \n",
      "top                              AustralisTerry                BHP,RIO  \n",
      "freq                                        565                     42  \n",
      "mean                                        NaN                    NaN  \n",
      "std                                         NaN                    NaN  \n",
      "min                                         NaN                    NaN  \n",
      "25%                                         NaN                    NaN  \n",
      "50%                                         NaN                    NaN  \n",
      "75%                                         NaN                    NaN  \n",
      "max                                         NaN                    NaN  \n"
     ]
    }
   ],
   "source": [
    "    # Analyze the multi-company associated Tweets.\n",
    "    attribute_describe(\"D:/Dropbox/summer-research-2019/jupyter-notebooks/attribute-datasets/\"\n",
    "                       \"data-analysis-datasets/multi-company-tweets-6-27-19.csv\",\n",
    "                       [], \"csv\")"
   ]
  },
  {
   "cell_type": "markdown",
   "metadata": {},
   "source": [
    "\n",
    "After looking at the Tweets directly in Microsoft Excel by loading the CSV dataset file, we have decided to include multi-company associated Tweets in our SLO Twitter data analysis statistics and graphs for the various sections listed in the Jupyter Notebook file titled \"slo-twitter-data-analysis-table-of-contents.ipynb\".<br>\n",
    "\n"
   ]
  },
  {
   "cell_type": "markdown",
   "metadata": {},
   "source": [
    "## Count of Tweets Assumed to be Stock Associated Tweets:"
   ]
  },
  {
   "cell_type": "code",
   "execution_count": 15,
   "metadata": {},
   "outputs": [
    {
     "name": "stdout",
     "output_type": "stream",
     "text": [
      "The # of multi-company associated Tweets assumed to be stock Tweets is 122\n",
      "The percentage of multi-company associated Tweets assumed to be stock Tweets is 1.47378593863252%\n",
      "Note: This is based on the conditions that the # of associated companies is greater than 2 and there are stock symbols found in the Tweet.\n"
     ]
    }
   ],
   "source": [
    "    # Determine count of stock symbols.\n",
    "    multi_company_tweets_df['#symbols'] = multi_company_tweets_df.text_derived.str.findall(r\"\\$\\w+\").apply(len)\n",
    "\n",
    "    # Tweets with over 2 company assignments and possessing stock symbols are assumed to be stock Tweets.\n",
    "    assumed_stock_tweets = multi_company_tweets_df.loc[\n",
    "        (multi_company_tweets_df[\"multiple_companies_derived_count\"] > 2) & (multi_company_tweets_df['#symbols'] > 0)]\n",
    "    print(f\"The # of multi-company associated Tweets assumed to be stock Tweets is {assumed_stock_tweets.shape[0]}\")\n",
    "    print(f\"The percentage of multi-company associated Tweets assumed to be stock Tweets is \"\n",
    "          f\"{assumed_stock_tweets.shape[0] / multi_company_tweets_df.shape[0] * 100}%\")\n",
    "    print(f\"Note: This is based on the conditions that the # of associated companies is greater than 2 and \"\n",
    "          f\"there are stock symbols found in the Tweet.\")"
   ]
  },
  {
   "cell_type": "markdown",
   "metadata": {},
   "source": [
    "## Simple Check for non-Company associated Tweets:"
   ]
  },
  {
   "cell_type": "markdown",
   "metadata": {},
   "source": [
    "\n",
    "The code provides a means by which we can use Pandas to check for any Tweets in our dataset which has a value or lacks a value for a specific attribute or set of attributes.<br>\n",
    "\n"
   ]
  },
  {
   "cell_type": "code",
   "execution_count": 11,
   "metadata": {},
   "outputs": [],
   "source": [
    "def count_nan_non_nan(input_file_path, attribute_name_list, file_type):\n",
    "    \"\"\"\n",
    "    Function counts the number of NaN and non-Nan examples in a Pandas dataframe for the specified columns.\n",
    "\n",
    "    :param input_file_path: absolute file path of the dataset in CSV or JSON format.\n",
    "    :param attribute_name_list:  list of names of the attributes we are analyzing.\n",
    "    :param file_type: type of input file. (JSON or CSV)\n",
    "    :return: None.\n",
    "    \"\"\"\n",
    "    start_time = time.time()\n",
    "\n",
    "    if file_type == \"csv\":\n",
    "        twitter_data = pd.read_csv(f\"{input_file_path}\", sep=\",\", encoding=\"ISO-8859-1\", dtype=object)\n",
    "    elif file_type == \"json\":\n",
    "        twitter_data = pd.read_json(f\"{input_file_path}\", orient='records', lines=True)\n",
    "    else:\n",
    "        print(f\"Invalid file type entered - aborting operation\")\n",
    "        return\n",
    "\n",
    "    # Create a empty Pandas dataframe.\n",
    "    dataframe = pd.DataFrame(twitter_data)\n",
    "\n",
    "    number_examples = dataframe.shape[0]\n",
    "    number_attributes = dataframe.shape[1]\n",
    "    print(f\"\\nThe number of rows (examples) in the dataframe is {number_examples}\")\n",
    "    print(f\"The number of columns (attributes) in the dataframe is {number_attributes}\\n\")\n",
    "\n",
    "    for attribute_name in attribute_name_list:\n",
    "        null_examples = dataframe[attribute_name].isnull().sum()\n",
    "        non_null_examples = number_examples - null_examples\n",
    "\n",
    "        print(f\"The number of NaN rows for \\\"{attribute_name}\\\" is {null_examples}\")\n",
    "        print(f\"The number of non-NaN rows for \\\"{attribute_name}\\\" is {non_null_examples}\\n\")\n",
    "\n",
    "    end_time = time.time()\n",
    "    time_elapsed_seconds = end_time - start_time\n",
    "    time_elapsed_minutes = (end_time - start_time) / 60.0\n",
    "    time_elapsed_hours = (end_time - start_time) / 60.0 / 60.0\n",
    "    log.debug(f\"The time taken to visualize the statistics is {time_elapsed_seconds} seconds, \"\n",
    "              f\"{time_elapsed_minutes} minutes, {time_elapsed_hours} hours\")"
   ]
  },
  {
   "cell_type": "markdown",
   "metadata": {},
   "source": [
    "\n",
    "Call data analysis function to check for any Tweets that aren't associated with a company at all.<br>\n",
    "\n"
   ]
  },
  {
   "cell_type": "code",
   "execution_count": 12,
   "metadata": {},
   "outputs": [
    {
     "name": "stdout",
     "output_type": "stream",
     "text": [
      "\n",
      "The number of rows (examples) in the dataframe is 670423\n",
      "The number of columns (attributes) in the dataframe is 37\n",
      "\n",
      "The number of NaN rows for \"company_derived\" is 1057\n",
      "The number of non-NaN rows for \"company_derived\" is 669366\n",
      "\n"
     ]
    }
   ],
   "source": [
    "    # # Determine the number of non-Company associated Tweets.\n",
    "    count_nan_non_nan(\n",
    "        \"D:/Dropbox/summer-research-2019/jupyter-notebooks/attribute-datasets/twitter-dataset-6-27-19.csv\",\n",
    "        [\"company_derived\"], \"csv\")"
   ]
  },
  {
   "cell_type": "markdown",
   "metadata": {},
   "source": [
    "\n",
    "It appears that 1,057 Tweets are not associated with any companies.  We may consider dropping those from our dataset in the future for SLO topic extraction or stance/sentiment analysis via machine learning.<br>\n",
    "\n"
   ]
  },
  {
   "cell_type": "markdown",
   "metadata": {},
   "source": [
    "## Tweet Company Assignment Counts:"
   ]
  },
  {
   "cell_type": "markdown",
   "metadata": {},
   "source": [
    "\n",
    "The # of Tweets associated with each company in our dataset.<br>\n",
    "\n"
   ]
  },
  {
   "cell_type": "code",
   "execution_count": 5,
   "metadata": {
    "scrolled": true
   },
   "outputs": [
    {
     "name": "stdout",
     "output_type": "stream",
     "text": [
      "The total number of Tweets in the dataset is: 670423\n",
      "The number of Tweets associated with adani is 431019\n",
      "The number of Tweets associated with multiple is 8278\n",
      "The number of Tweets associated with bhp is 64347\n",
      "The number of Tweets associated with cuesta is 618\n",
      "The number of Tweets associated with fortescue is 11772\n",
      "The number of Tweets associated with iluka is 3083\n",
      "The number of Tweets associated with newmont is 901\n",
      "The number of Tweets associated with oilsearch is 1556\n",
      "The number of Tweets associated with riotinto is 25499\n",
      "The number of Tweets associated with santos is 92008\n",
      "The number of Tweets associated with whitehaven is 14753\n",
      "The number of Tweets associated with woodside is 15532\n"
     ]
    }
   ],
   "source": [
    "    total_tweets = tweet_dataframe.shape[0]\n",
    "    adani = tweet_dataframe.loc[tweet_dataframe[\"company_derived_designation\"] == \"adani\"]\n",
    "    multiple = tweet_dataframe.loc[tweet_dataframe[\"company_derived_designation\"] == \"multiple\"]\n",
    "    bhp = tweet_dataframe.loc[tweet_dataframe[\"company_derived_designation\"] == \"bhp\"]\n",
    "    cuesta = tweet_dataframe.loc[tweet_dataframe[\"company_derived_designation\"] == \"cuesta\"]\n",
    "    fortescue = tweet_dataframe.loc[tweet_dataframe[\"company_derived_designation\"] == \"fortescue\"]\n",
    "    iluka = tweet_dataframe.loc[tweet_dataframe[\"company_derived_designation\"] == \"iluka\"]\n",
    "    newmont = tweet_dataframe.loc[tweet_dataframe[\"company_derived_designation\"] == \"newmont\"]\n",
    "    oilsearch = tweet_dataframe.loc[tweet_dataframe[\"company_derived_designation\"] == \"oilsearch\"]\n",
    "    riotinto = tweet_dataframe.loc[tweet_dataframe[\"company_derived_designation\"] == \"riotinto\"]\n",
    "    santos = tweet_dataframe.loc[tweet_dataframe[\"company_derived_designation\"] == \"santos\"]\n",
    "    whitehaven = tweet_dataframe.loc[tweet_dataframe[\"company_derived_designation\"] == \"whitehaven\"]\n",
    "    woodside = tweet_dataframe.loc[tweet_dataframe[\"company_derived_designation\"] == \"woodside\"]\n",
    "\n",
    "    print(f\"The total number of Tweets in the dataset is: {total_tweets}\")\n",
    "    print(f\"The number of Tweets associated with adani is {adani.shape[0]}\")\n",
    "    print(f\"The number of Tweets associated with multiple is {multiple.shape[0]}\")\n",
    "    print(f\"The number of Tweets associated with bhp is {bhp.shape[0]}\")\n",
    "    print(f\"The number of Tweets associated with cuesta is {cuesta.shape[0]}\")\n",
    "    print(f\"The number of Tweets associated with fortescue is {fortescue.shape[0]}\")\n",
    "    print(f\"The number of Tweets associated with iluka is {iluka.shape[0]}\")\n",
    "    print(f\"The number of Tweets associated with newmont is {newmont.shape[0]}\")\n",
    "    print(f\"The number of Tweets associated with oilsearch is {oilsearch.shape[0]}\")\n",
    "    print(f\"The number of Tweets associated with riotinto is {riotinto.shape[0]}\")\n",
    "    print(f\"The number of Tweets associated with santos is {santos.shape[0]}\")\n",
    "    print(f\"The number of Tweets associated with whitehaven is {whitehaven.shape[0]}\")\n",
    "    print(f\"The number of Tweets associated with woodside is {woodside.shape[0]}\")"
   ]
  },
  {
   "cell_type": "markdown",
   "metadata": {},
   "source": [
    "\n",
    "Most Tweets are associated with Adani.<br>\n",
    "\n"
   ]
  },
  {
   "cell_type": "code",
   "execution_count": null,
   "metadata": {},
   "outputs": [],
   "source": []
  }
 ],
 "metadata": {
  "kernelspec": {
   "display_name": "Python 3",
   "language": "python",
   "name": "python3"
  },
  "language_info": {
   "codemirror_mode": {
    "name": "ipython",
    "version": 3
   },
   "file_extension": ".py",
   "mimetype": "text/x-python",
   "name": "python",
   "nbconvert_exporter": "python",
   "pygments_lexer": "ipython3",
   "version": "3.6.8"
  },
  "pycharm": {
   "stem_cell": {
    "cell_type": "raw",
    "metadata": {
     "collapsed": false
    },
    "source": []
   }
  }
 },
 "nbformat": 4,
 "nbformat_minor": 1
}
