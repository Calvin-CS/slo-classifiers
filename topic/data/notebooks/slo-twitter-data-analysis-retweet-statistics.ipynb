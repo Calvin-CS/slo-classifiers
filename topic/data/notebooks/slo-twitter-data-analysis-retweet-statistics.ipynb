{
 "cells": [
  {
   "cell_type": "markdown",
   "metadata": {},
   "source": [
    "# SLO Twitter Data Analysis  - Retweet Statistics"
   ]
  },
  {
   "cell_type": "markdown",
   "metadata": {},
   "source": [
    "Setup the Jupyter Notebook kernel for SLO data analysis."
   ]
  },
  {
   "cell_type": "code",
   "execution_count": 1,
   "metadata": {},
   "outputs": [],
   "source": [
    "import logging as log\n",
    "import warnings\n",
    "import time\n",
    "from matplotlib import pyplot as plt\n",
    "import pandas as pd\n",
    "import seaborn as sns\n",
    "\n",
    "# Import custom utility functions.\n",
    "import slo_twitter_data_analysis_utility_functions as tweet_util_v2\n",
    "\n",
    "#############################################################\n",
    "# Adjust parameters to display all contents.\n",
    "pd.options.display.max_rows = None\n",
    "pd.options.display.max_columns = None\n",
    "pd.options.display.width = None\n",
    "pd.options.display.max_colwidth = 1000\n",
    "# Seaborn setting.\n",
    "sns.set()\n",
    "# Set level of precision for float value output.\n",
    "pd.set_option('precision', 12)\n",
    "# Ignore these types of warnings - don't output to console.\n",
    "warnings.simplefilter(action='ignore', category=FutureWarning)\n",
    "warnings.simplefilter(action='ignore', category=DeprecationWarning)\n",
    "warnings.simplefilter(action='ignore', category=UserWarning)\n",
    "# Matplotlib log settings.\n",
    "mylog = log.getLogger(\"matplotlib\")\n",
    "mylog.setLevel(log.INFO)\n",
    "\n",
    "\"\"\"\n",
    "Turn debug log statements for various sections of code on/off.\n",
    "(adjust log level as necessary)\n",
    "\"\"\"\n",
    "log.basicConfig(level=log.INFO)\n",
    "\n",
    "\n",
    "# Import CSV dataset and convert to dataframe.\n",
    "tweet_dataframe = tweet_util_v2.import_dataset(\n",
    "    \"D:/Dropbox/summer-research-2019/jupyter-notebooks/attribute-datasets/\"\n",
    "    \"twitter-dataset-7-10-19-with-irrelevant-tweets-excluded.csv\",\n",
    "    \"csv\", False)"
   ]
  },
  {
   "cell_type": "markdown",
   "metadata": {},
   "source": [
    "## Count and Percentage of ReTweets Across Entire Dataset and by Company:"
   ]
  },
  {
   "cell_type": "markdown",
   "metadata": {},
   "source": [
    "\n",
    "This code cell provides statistics on whether a Tweet is Retweet across the entire dataset as well as when grouped by the companies each is associated with.<br>\n",
    "\n"
   ]
  },
  {
   "cell_type": "code",
   "execution_count": 2,
   "metadata": {
    "pycharm": {
     "name": "#%%\n"
    }
   },
   "outputs": [
    {
     "name": "stdout",
     "output_type": "stream",
     "text": [
      "ReTweeted Statistics for entire Twitter dataset:\n",
      "True     440548\n",
      "False    214070\n",
      "Name: retweeted_derived, dtype: int64\n",
      "True     0.67298485529\n",
      "False    0.32701514471\n",
      "Name: retweeted_derived, dtype: float64\n",
      "\n",
      "ReTweeted Statistics for Tweets by Company for entire Twitter dataset:\n",
      "company_derived_designation  retweeted_derived\n",
      "adani                        False                104980\n",
      "                             True                 319457\n",
      "bhp                          False                 36725\n",
      "                             True                  26314\n",
      "cuesta                       False                    73\n",
      "                             True                     28\n",
      "fortescue                    False                  7392\n",
      "                             True                   4254\n",
      "iluka                        False                  2484\n",
      "                             True                    477\n",
      "multiple                     False                  3543\n",
      "                             True                   4662\n",
      "newmont                      False                   713\n",
      "                             True                    175\n",
      "oilsearch                    False                  1205\n",
      "                             True                    349\n",
      "riotinto                     False                 15540\n",
      "                             True                   9831\n",
      "santos                       False                 25037\n",
      "                             True                  61242\n",
      "whitehaven                   False                  6513\n",
      "                             True                   8205\n",
      "woodside                     False                  9865\n",
      "                             True                   5554\n",
      "dtype: int64\n",
      "\n"
     ]
    }
   ],
   "source": [
    "    print(f\"ReTweeted Statistics for entire Twitter dataset:\")\n",
    "    print(tweet_dataframe[\"retweeted_derived\"].value_counts())\n",
    "    print(tweet_dataframe[\"retweeted_derived\"].value_counts(normalize=True))\n",
    "    print()\n",
    "\n",
    "    print(f\"ReTweeted Statistics for Tweets by Company for entire Twitter dataset:\")\n",
    "    print(tweet_dataframe.groupby(['company_derived_designation', \"retweeted_derived\"]).size())\n",
    "    print()"
   ]
  },
  {
   "cell_type": "markdown",
   "metadata": {},
   "source": [
    "    \n",
    "It seems most of the Tweets in our dataset are ReTweets.  If we removed the ReTweets associated with Adani, we would have a more balanced dataset.<br>\n",
    "    \n"
   ]
  },
  {
   "cell_type": "markdown",
   "metadata": {},
   "source": [
    "## Graph of ReTweet Percentages by Tweet Company Association:"
   ]
  },
  {
   "cell_type": "markdown",
   "metadata": {},
   "source": [
    "\n",
    "Plot of whether a Tweet is a ReTweet or not by the company they are associated with.  Y-axis depicts the percentage of all Tweets for that company.  X-axis left bar depicts Non-Retweets and right bar depicts ReTWeets.<br>\n",
    "\n"
   ]
  },
  {
   "cell_type": "code",
   "execution_count": 3,
   "metadata": {
    "pycharm": {
     "name": "#%%\n"
    }
   },
   "outputs": [
    {
     "name": "stdout",
     "output_type": "stream",
     "text": [
      "Percentage of All Tweets for a Company that Are or Aren't ReTweets: \n"
     ]
    },
    {
     "data": {
      "text/plain": [
       "<Figure size 432x288 with 0 Axes>"
      ]
     },
     "metadata": {},
     "output_type": "display_data"
    },
    {
     "data": {
      "image/png": "[encoded data removed]",
      "text/plain": [
       "<Figure size 1296x432 with 12 Axes>"
      ]
     },
     "metadata": {
      "needs_background": "light"
     },
     "output_type": "display_data"
    }
   ],
   "source": [
    "    print(f\"Percentage of All Tweets for a Company that Are or Aren't ReTweets: \")\n",
    "    plt.figure()\n",
    "    grid = sns.FacetGrid(tweet_dataframe[[\"retweeted_derived\", 'company_derived_designation']],\n",
    "                         col='company_derived_designation', col_wrap=6, ylim=(0, 1))\n",
    "    grid.map_dataframe(tweet_util_v2.bar_plot, \"retweeted_derived\")\n",
    "    grid.set_titles('{col_name}')\n",
    "    grid.set_xlabels(\"ReTweet - 0.0 No, 1.0 Yes\").set_ylabels(\"Percentage of All Tweets\")\n",
    "    plt.show()"
   ]
  },
  {
   "cell_type": "markdown",
   "metadata": {},
   "source": [
    "\n",
    "We see that most Tweets about \"Adani\" are ReTweets while most Tweets for many of the other companies are not ReTweets.<br>\n",
    "\n"
   ]
  },
  {
   "cell_type": "markdown",
   "metadata": {},
   "source": [
    "## Graph of ReTweet Percentages by ReTweet Count and Tweet Company Association:"
   ]
  },
  {
   "cell_type": "markdown",
   "metadata": {
    "pycharm": {
     "name": "#%%\n"
    }
   },
   "source": [
    "\n",
    "Plot of the ReTweet counts for each Tweet against what percentage Tweets with that specific ReTweet count value make up the entire Twitter dataset.<br> \n",
    "\n"
   ]
  },
  {
   "cell_type": "code",
   "execution_count": 4,
   "metadata": {},
   "outputs": [
    {
     "name": "stdout",
     "output_type": "stream",
     "text": [
      "Percentage Composition of All Tweets for a Company for Most ReTweeted Tweets by their ReTweet Counts:\n"
     ]
    },
    {
     "data": {
      "text/plain": [
       "<Figure size 432x288 with 0 Axes>"
      ]
     },
     "metadata": {},
     "output_type": "display_data"
    },
    {
     "data": {
      "image/png": "[encoded data removed]",
      "text/plain": [
       "<Figure size 1296x432 with 12 Axes>"
      ]
     },
     "metadata": {
      "needs_background": "light"
     },
     "output_type": "display_data"
    }
   ],
   "source": [
    "    plt.figure()\n",
    "    print(f\"Percentage Composition of All Tweets for a Company for Most ReTweeted Tweets by their ReTweet Counts:\")\n",
    "    grid = sns.FacetGrid(tweet_dataframe[['tweet_id', 'company_derived_designation']],\n",
    "                         col='company_derived_designation', col_wrap=6, ylim=(0, 1), xlim=(0, 10))\n",
    "    grid.map_dataframe(tweet_util_v2.bar_plot_zipf, 'tweet_id')\n",
    "    grid.set_titles('{col_name}')\n",
    "    grid.set_xlabels('ReTweeted Count').set_ylabels(\"Percentage of All Tweets\")\n",
    "    plt.show()"
   ]
  },
  {
   "cell_type": "markdown",
   "metadata": {
    "pycharm": {
     "name": "#%%\n"
    }
   },
   "source": [
    "\n",
    "We can see that for Adani the ReTweet count can go up quite high.  However, for the the other companies the ReTweet count does not go much past 3 or so.<br>\n",
    "\n"
   ]
  },
  {
   "cell_type": "markdown",
   "metadata": {},
   "source": [
    "## Highest ReTweet Counts and the Number of Tweets with those Counts by Company:"
   ]
  },
  {
   "cell_type": "markdown",
   "metadata": {},
   "source": [
    "    \n",
    "We compute statistics for the ReTweet count for the most ReTweeted Tweets.<br>\n",
    "   \n"
   ]
  },
  {
   "cell_type": "code",
   "execution_count": 5,
   "metadata": {
    "pycharm": {
     "name": "#%%\n"
    }
   },
   "outputs": [
    {
     "name": "stdout",
     "output_type": "stream",
     "text": [
      "\n",
      "ReTweet counts for the Top (most) Retweeted Tweets.\n",
      "\n",
      "company_derived_designation   \n",
      "adani                        2         1\n",
      "                             1    424435\n",
      "bhp                          1     63039\n",
      "cuesta                       1       101\n",
      "fortescue                    1     11646\n",
      "iluka                        1      2961\n",
      "multiple                     1      8205\n",
      "newmont                      1       888\n",
      "oilsearch                    1      1554\n",
      "riotinto                     1     25371\n",
      "santos                       1     86279\n",
      "whitehaven                   1     14718\n",
      "woodside                     1     15419\n",
      "Name: tweet_id, dtype: int64\n"
     ]
    }
   ],
   "source": [
    "    print(f\"\\nReTweet counts for the Top (most) Retweeted Tweets.\\n\")\n",
    "    print(tweet_dataframe[['company_derived_designation', 'tweet_id']].groupby('company_derived_designation')\n",
    "          .apply(lambda x: x['tweet_id'].value_counts().value_counts(normalize=False)\n",
    "                 .sort_index(ascending=False).head(3)))"
   ]
  },
  {
   "cell_type": "markdown",
   "metadata": {
    "pycharm": {
     "name": "#%%\n"
    }
   },
   "source": [
    "\n",
    "Unsurprisingly at this point, Adani Tweets have the highest counts for ReTweets.<br>\n",
    "\n",
    "**TODO: Understand what the values in the right column represent.  Are they the number of Tweets with that count?**<br>\n",
    "\n",
    "**TODO: Why are these values different from our own code's in the section titled \"Tweet ID's and ReTweet Counts:\"?**<br>\n",
    "\n"
   ]
  },
  {
   "cell_type": "markdown",
   "metadata": {},
   "source": [
    "## Top ReTweeted Tweet ID's and Percent Composition of Associated Company's Tweets:"
   ]
  },
  {
   "cell_type": "markdown",
   "metadata": {},
   "source": [
    "\n",
    "Statistics that give the Tweet ID of the most ReTweeted Tweets and what percentage of the entire dataset they comprise.<br>\n",
    "\n"
   ]
  },
  {
   "cell_type": "code",
   "execution_count": 6,
   "metadata": {
    "scrolled": false
   },
   "outputs": [
    {
     "name": "stdout",
     "output_type": "stream",
     "text": [
      "\n",
      "What Percentage of All Tweets for Given Company across the entire dataset does the Top (most) Retweeted Tweets Comprise?.\n",
      "\n",
      "company_derived_designation                    \n",
      "adani                        832747709622652928    0.000004712125\n",
      "                             914807453375537152    0.000002356062\n",
      "                             919519409823084549    0.000002356062\n",
      "                             874923201306005504    0.000002356062\n",
      "                             864966034557616128    0.000002356062\n",
      "bhp                          716951938823118850    0.000015863196\n",
      "                             702070691852476416    0.000015863196\n",
      "                             517173077256306688    0.000015863196\n",
      "                             838811003680759809    0.000015863196\n",
      "                             491418117474504706    0.000015863196\n",
      "cuesta                       486270007211732992    0.009900990099\n",
      "                             369474354565754880    0.009900990099\n",
      "                             449034668621312000    0.009900990099\n",
      "                             468454291788021760    0.009900990099\n",
      "                             612743238722670593    0.009900990099\n",
      "fortescue                    569107215266680832    0.000085866392\n",
      "                             978450794742669312    0.000085866392\n",
      "                             866666343239565312    0.000085866392\n",
      "                             501969114999435265    0.000085866392\n",
      "                             524434336876331008    0.000085866392\n",
      "iluka                        531248830105534464    0.000337723742\n",
      "                             414465979960139777    0.000337723742\n",
      "                             705880671986647040    0.000337723742\n",
      "                             475501242123579392    0.000337723742\n",
      "                             592921200956940289    0.000337723742\n",
      "multiple                     690458600209182720    0.000121876904\n",
      "                             687159968252964864    0.000121876904\n",
      "                             834603651268108288    0.000121876904\n",
      "                             723121314601406464    0.000121876904\n",
      "                             805945346173988864    0.000121876904\n",
      "newmont                      473352948106686464    0.001126126126\n",
      "                             968684654764199936    0.001126126126\n",
      "                             966134039450038272    0.001126126126\n",
      "                             657099338200387584    0.001126126126\n",
      "                             985714116831490048    0.001126126126\n",
      "oilsearch                    922934981789388800    0.000643500644\n",
      "                             971148640831004672    0.000643500644\n",
      "                             656283329298206724    0.000643500644\n",
      "                             965816948922638336    0.000643500644\n",
      "                             525044732976975872    0.000643500644\n",
      "riotinto                     464398523262177280    0.000039415080\n",
      "                             969392258842738689    0.000039415080\n",
      "                             920756232478113792    0.000039415080\n",
      "                             727769970705338368    0.000039415080\n",
      "                             634126819210301445    0.000039415080\n",
      "santos                       447861865641570304    0.000011590306\n",
      "                             468909892796174337    0.000011590306\n",
      "                             962423396985286656    0.000011590306\n",
      "                             710369460402556928    0.000011590306\n",
      "                             891150143117971456    0.000011590306\n",
      "whitehaven                   668961431325290496    0.000067944014\n",
      "                             714770497540603905    0.000067944014\n",
      "                             649992623847923712    0.000067944014\n",
      "                             751034820805832704    0.000067944014\n",
      "                             422518326326075392    0.000067944014\n",
      "woodside                     489555333719683074    0.000064855049\n",
      "                             780975085003890688    0.000064855049\n",
      "                             322665078476374016    0.000064855049\n",
      "                             778073994821902341    0.000064855049\n",
      "                             745176554976612353    0.000064855049\n",
      "Name: tweet_id, dtype: float64\n"
     ]
    }
   ],
   "source": [
    "    print(\n",
    "        f\"\\nWhat Percentage of All Tweets for Given Company across the entire dataset does the Top (most) Retweeted \"\n",
    "        f\"Tweets Comprise?.\\n\")\n",
    "    print(tweet_dataframe[['company_derived_designation', 'tweet_id']].groupby('company_derived_designation')\n",
    "          .apply(lambda x: x['tweet_id'].value_counts(normalize=True).head(5)))"
   ]
  },
  {
   "cell_type": "markdown",
   "metadata": {
    "pycharm": {
     "name": "#%%\n"
    }
   },
   "source": [
    "\n",
    "The higher the percentage values given in the right column, the more popular a Tweet is and the more they were ReTweeted and the more they weigh heavily as part of that company's set of associated Tweets.<br>\n",
    "\n"
   ]
  },
  {
   "cell_type": "markdown",
   "metadata": {},
   "source": [
    "## ReTweet Counts and Percentages Across Entire Dataset:"
   ]
  },
  {
   "cell_type": "code",
   "execution_count": 7,
   "metadata": {},
   "outputs": [
    {
     "name": "stdout",
     "output_type": "stream",
     "text": [
      "Note: These values based on 'retweeted_derived' boolean attribute:\n",
      "The number of Re-Tweets in the dataset: (440548, 37)\n",
      "The number of Non Re-Tweets in the dataset: (214070, 37)\n",
      "The percentage of Tweets that are ReTweets in the dataset: 0.6729848552896498\n",
      "The percentage of Tweets that are not ReTweets in the dataset: 0.32701514471035015\n"
     ]
    }
   ],
   "source": [
    "    print(\"Note: These values based on 'retweeted_derived' boolean attribute:\")\n",
    "\n",
    "    yes_reweeted = tweet_dataframe.loc[tweet_dataframe['retweeted_derived'] == True]\n",
    "    print(f\"The number of Re-Tweets in the dataset: {yes_reweeted.shape}\")\n",
    "    no_reweeted = tweet_dataframe.loc[tweet_dataframe['retweeted_derived'] == False]\n",
    "    print(f\"The number of Non Re-Tweets in the dataset: {no_reweeted.shape}\")\n",
    "\n",
    "    print(f\"The percentage of Tweets that are ReTweets in the dataset: \"\n",
    "          f\"{yes_reweeted.shape[0] / tweet_dataframe.shape[0]}\")\n",
    "    print(f\"The percentage of Tweets that are not ReTweets in the dataset: \"\n",
    "          f\"{no_reweeted.shape[0] / tweet_dataframe.shape[0]}\")"
   ]
  },
  {
   "cell_type": "markdown",
   "metadata": {},
   "source": [
    "\n",
    "Approximately 2/3rd of our dataset is comprised of ReTweets.<br>\n",
    "\n"
   ]
  },
  {
   "cell_type": "markdown",
   "metadata": {},
   "source": [
    "## Original Tweet Text of ReTweeted Tweets:"
   ]
  },
  {
   "cell_type": "code",
   "execution_count": 12,
   "metadata": {
    "pycharm": {
     "name": "#%%\n"
    }
   },
   "outputs": [
    {
     "name": "stdout",
     "output_type": "stream",
     "text": [
      "# of re-tweets with included original text of the original re-tweeted Tweet is: (439913, 14)\n",
      "# of re-tweets without included original text of the original re-tweeted Tweet is: 635\n"
     ]
    }
   ],
   "source": [
    "# Import CSV dataset and convert to dataframe.\n",
    "tweet_dataframe_extra = tweet_util_v2.import_dataset(\n",
    "    \"D:/Dropbox/summer-research-2019/jupyter-notebooks/attribute-datasets/\"\n",
    "    \"twitter-dataset-7-10-19-with-irrelevant-tweets-excluded-extra.csv\",\n",
    "    \"csv\", False)\n",
    "    \n",
    "has_retweeted_text = tweet_dataframe_extra.loc[tweet_dataframe_extra[\"retweeted_status_full_text\"].notnull()]\n",
    "print(f\"# of re-tweets with included original text of the original re-tweeted Tweet is: \"\n",
    "      f\"{has_retweeted_text.shape}\")\n",
    "print(f\"# of re-tweets without included original text of the original re-tweeted Tweet is: \"\n",
    "      f\"{yes_reweeted.shape[0] - has_retweeted_text.shape[0]}\")"
   ]
  },
  {
   "cell_type": "markdown",
   "metadata": {},
   "source": [
    "\n",
    "We have the original ReTweeted Tweet's full text for most, but not all, of our Tweets in our dataset.<br>\n",
    "\n"
   ]
  },
  {
   "cell_type": "markdown",
   "metadata": {},
   "source": [
    "## Tweet ID's and ReTweet Counts:"
   ]
  },
  {
   "cell_type": "code",
   "execution_count": 9,
   "metadata": {},
   "outputs": [
    {
     "name": "stdout",
     "output_type": "stream",
     "text": [
      "Tweet ID's and ReTweet Count for Tweets in our Dataset (Descending head):\n",
      "                  tweet_id  tweet_retweet_count\n",
      "488493  989514262174318592                20066\n",
      "488458  989313290298785792                20066\n",
      "620872  979610667714932736                18551\n",
      "620858  979340630630350848                18551\n",
      "620861  979459217403686912                18551\n",
      "620875  979627668185337858                18551\n",
      "620896  980029058644819970                18551\n",
      "620863  979467152288899073                18551\n",
      "620902  980127541909270530                18551\n",
      "620859  979449557598679040                18551\n"
     ]
    }
   ],
   "source": [
    "    retweet_frequency = tweet_dataframe[[\"tweet_id\", \"tweet_retweet_count\"]]\n",
    "    print(\"Tweet ID's and ReTweet Count for Tweets in our Dataset (Descending head):\")\n",
    "    print(retweet_frequency.sort_values(by=[\"tweet_retweet_count\"], ascending=False).head(10))"
   ]
  },
  {
   "cell_type": "markdown",
   "metadata": {},
   "source": [
    "\n",
    "The integer values on the far left appear to the row index value of the Tweet in our dataset.  However, these row index values are always two lower than they should be.  For example, for the top Tweet in the list, a row index value of 498071 + 2 = 498073 would be the actual row corresponding to the Tweet with a ReTweet count of 98886.  The scientific notation float values appear to be the Tweet ID's.  We need to do further analysis into how to change the display of the Tweet ID's and why the row index values are off by 2.<br>\n",
    "\n"
   ]
  },
  {
   "cell_type": "markdown",
   "metadata": {},
   "source": [
    "## Original ReTweeted Tweet ID's and ReTweet Counts:"
   ]
  },
  {
   "cell_type": "code",
   "execution_count": 10,
   "metadata": {},
   "outputs": [
    {
     "name": "stdout",
     "output_type": "stream",
     "text": [
      "Tweet ID's and ReTweet Count for the Original ReTweeted Tweet (Descending head):\n",
      "        retweeted_status_id  retweeted_status_retweet_count\n",
      "498068   9.827836696298e+17                         98886.0\n",
      "634811   9.730206199348e+17                         24691.0\n",
      "633503   9.682302478492e+17                         24639.0\n",
      "633515   9.682302478492e+17                         24639.0\n",
      "633526   9.682302478492e+17                         24639.0\n",
      "633600   9.682302478492e+17                         24635.0\n",
      "633621   9.682302478492e+17                         24635.0\n",
      "498327   9.927912492697e+17                         23823.0\n",
      "498322   9.927912492697e+17                         23823.0\n",
      "498333   9.927912492697e+17                         23823.0\n"
     ]
    }
   ],
   "source": [
    "    retweet_frequency = tweet_dataframe_extra[[\"retweeted_status_id\", \"retweeted_status_retweet_count\"]]\n",
    "    print(\"Tweet ID's and ReTweet Count for the Original ReTweeted Tweet (Descending head):\")\n",
    "    print(retweet_frequency.sort_values(by=[\"retweeted_status_retweet_count\"], ascending=False).head(10))"
   ]
  },
  {
   "cell_type": "markdown",
   "metadata": {},
   "source": [
    "\n",
    "According to this, we have a few original ReTweeted Tweets whose ReTweet counts are high.<br>\n",
    "\n",
    "**Note: The original ReTweeted Tweet and the Tweet they were extracted from seem to share the same values.  We should do further analysis into why this is.**<br>\n",
    "\n"
   ]
  },
  {
   "cell_type": "markdown",
   "metadata": {},
   "source": [
    "## ReTweet and Non-ReTweet Counts by Company - Separated:"
   ]
  },
  {
   "cell_type": "code",
   "execution_count": 11,
   "metadata": {},
   "outputs": [
    {
     "name": "stdout",
     "output_type": "stream",
     "text": [
      "Retweet counts by company:\n",
      "   company_derived_designation  counts\n",
      "0                        adani  319457\n",
      "1                          bhp   26314\n",
      "2                       cuesta      28\n",
      "3                    fortescue    4254\n",
      "4                        iluka     477\n",
      "5                     multiple    4662\n",
      "6                      newmont     175\n",
      "7                    oilsearch     349\n",
      "8                     riotinto    9831\n",
      "9                       santos   61242\n",
      "10                  whitehaven    8205\n",
      "11                    woodside    5554\n",
      "\n",
      "Non Retweet counts by company:\n",
      "   company_derived_designation  counts\n",
      "0                        adani  104980\n",
      "1                          bhp   36725\n",
      "2                       cuesta      73\n",
      "3                    fortescue    7392\n",
      "4                        iluka    2484\n",
      "5                     multiple    3543\n",
      "6                      newmont     713\n",
      "7                    oilsearch    1205\n",
      "8                     riotinto   15540\n",
      "9                       santos   25037\n",
      "10                  whitehaven    6513\n",
      "11                    woodside    9865\n",
      "\n"
     ]
    }
   ],
   "source": [
    "    print(\"Retweet counts by company:\")\n",
    "    yes_by_company = \\\n",
    "        pd.DataFrame(yes_reweeted).groupby([\"company_derived_designation\"]).size().reset_index(name=\"counts\")\n",
    "    print(f\"{yes_by_company}\\n\")\n",
    "    print(\"Non Retweet counts by company:\")\n",
    "    no_by_company = \\\n",
    "        pd.DataFrame(no_reweeted).groupby([\"company_derived_designation\"]).size().reset_index(name=\"counts\")\n",
    "    print(f\"{no_by_company}\\n\")"
   ]
  },
  {
   "cell_type": "markdown",
   "metadata": {},
   "source": [
    "\n",
    "Similar to the ReTweet count statistics provided at the beginning of this notebook file only separated between ReTweets and non-ReTweets into two separate groups according to associated company.<br>\n",
    "\n"
   ]
  },
  {
   "cell_type": "code",
   "execution_count": null,
   "metadata": {},
   "outputs": [],
   "source": []
  }
 ],
 "metadata": {
  "kernelspec": {
   "display_name": "Python 3",
   "language": "python",
   "name": "python3"
  },
  "language_info": {
   "codemirror_mode": {
    "name": "ipython",
    "version": 3
   },
   "file_extension": ".py",
   "mimetype": "text/x-python",
   "name": "python",
   "nbconvert_exporter": "python",
   "pygments_lexer": "ipython3",
   "version": "3.6.8"
  },
  "pycharm": {
   "stem_cell": {
    "cell_type": "raw",
    "metadata": {
     "collapsed": false
    },
    "source": []
   }
  }
 },
 "nbformat": 4,
 "nbformat_minor": 1
}
