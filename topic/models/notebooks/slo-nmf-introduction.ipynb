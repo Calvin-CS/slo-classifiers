{
 "cells": [
  {
   "cell_type": "markdown",
   "metadata": {
    "collapsed": true
   },
   "source": [
    "# Non-Negative Matrix Factorization Topic Modeling Algorithm Introduction"
   ]
  },
  {
   "cell_type": "markdown",
   "metadata": {},
   "source": [
    "### Joseph Jinn and Keith VanderLinden"
   ]
  },
  {
   "cell_type": "markdown",
   "metadata": {},
   "source": [
    "This Jupyter Notebook file provides a very simple high-level overview of the NMF topic modeling algorithm.  We briefly discuss the plate notation diagram, pseudocode, and statistical formula for the model."
   ]
  },
  {
   "cell_type": "markdown",
   "metadata": {},
   "source": [
    "### Graphical Model for the NMF Algorithm:"
   ]
  },
  {
   "cell_type": "markdown",
   "metadata": {},
   "source": [
    "Approximate Matrix X (data) by multiplying two smaller matrix W and H to approximately reconstruct X."
   ]
  },
  {
   "cell_type": "markdown",
   "metadata": {},
   "source": [
    "![nmf](../images/nmf_model.png)"
   ]
  },
  {
   "cell_type": "markdown",
   "metadata": {},
   "source": [
    "### Statistical Formula for Calculating the NMF algorithm:"
   ]
  },
  {
   "cell_type": "markdown",
   "metadata": {},
   "source": [
    "Matrix A = Matrix X (images from multiple sources using different notation)"
   ]
  },
  {
   "cell_type": "markdown",
   "metadata": {},
   "source": [
    "![nmf equation](../images/nmf_equation.png)"
   ]
  },
  {
   "cell_type": "markdown",
   "metadata": {},
   "source": [
    "**TODO - explain this formula**"
   ]
  },
  {
   "cell_type": "markdown",
   "metadata": {},
   "source": [
    "### Pseudocode for the NMF algorithm:"
   ]
  },
  {
   "cell_type": "markdown",
   "metadata": {},
   "source": [
    "Note: Unsure if this is the exact algorithm Gensim uses.  Check and replace if necessary.  Obtained from a different scholarly source."
   ]
  },
  {
   "cell_type": "markdown",
   "metadata": {},
   "source": [
    "![nmf pseudocode](../images/nmf_pseudocode.png)"
   ]
  },
  {
   "cell_type": "markdown",
   "metadata": {},
   "source": [
    "## A Simplified Non-Negative Matrix Factorization Topic Modeling Algorithm Example:"
   ]
  },
  {
   "cell_type": "markdown",
   "metadata": {},
   "source": [
    "Placeholder.\n",
    "\n",
    "**TODO - implement simple hand-worked example of one iteration through the algorithm (provided we can find an example)** "
   ]
  },
  {
   "cell_type": "markdown",
   "metadata": {},
   "source": [
    "### Completion of the FIRST iteration of the NMF algorithm:"
   ]
  },
  {
   "cell_type": "markdown",
   "metadata": {},
   "source": [
    "Rinse and repeat."
   ]
  },
  {
   "cell_type": "markdown",
   "metadata": {},
   "source": [
    "## Resources Referenced:"
   ]
  },
  {
   "cell_type": "markdown",
   "metadata": {},
   "source": [
    "- https://mlexplained.com/2017/12/28/a-practical-introduction-to-nmf-nonnegative-matrix-factorization/\n",
    "    - explanation of NMF linear algebra with example code.\n",
    "\n",
    "\n",
    "- https://medium.com/ml2vec/topic-modeling-is-an-unsupervised-learning-approach-to-clustering-documents-to-discover-topics-fdfbf30e27df\n",
    "    - another explanation of NMF mathematics with example code.\n",
    "\n",
    "\n",
    "- https://towardsdatascience.com/topic-modeling-for-the-new-york-times-news-dataset-1f643e15caac\n",
    "    - another blog article on utilizing NMF for topic modeling.\n",
    "    \n",
    "    \n",
    "- https://en.wikipedia.org/wiki/Non-negative_matrix_factorization\n",
    "    - used the matrix image.\n",
    "    \n",
    "\n",
    "- https://en.wikipedia.org/wiki/NP-hardness\n",
    "    - NMF is a NP-hard problem.\n",
    "    \n",
    "    \n",
    "- https://pdfs.semanticscholar.org/b5d0/36429877568a648389531e323ea0983a5148.pdf\n",
    "    - scholarly article describing NMF on short texts.\n",
    "    \n",
    "\n",
    "- https://www.cc.gatech.edu/~hpark/papers/nmf_book_chapter.pdf\n",
    "    - another article on NMF topic modeling.\n",
    "    "
   ]
  },
  {
   "cell_type": "code",
   "execution_count": null,
   "metadata": {
    "pycharm": {
     "name": "#%%\n"
    }
   },
   "outputs": [],
   "source": []
  }
 ],
 "metadata": {
  "kernelspec": {
   "display_name": "Python 3",
   "language": "python",
   "name": "python3"
  },
  "language_info": {
   "codemirror_mode": {
    "name": "ipython",
    "version": 3
   },
   "file_extension": ".py",
   "mimetype": "text/x-python",
   "name": "python",
   "nbconvert_exporter": "python",
   "pygments_lexer": "ipython3",
   "version": "3.6.8"
  },
  "pycharm": {
   "stem_cell": {
    "cell_type": "raw",
    "metadata": {
     "collapsed": false
    },
    "source": []
   }
  }
 },
 "nbformat": 4,
 "nbformat_minor": 1
}
