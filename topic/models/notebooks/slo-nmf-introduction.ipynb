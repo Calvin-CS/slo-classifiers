{
 "cells": [
  {
   "cell_type": "markdown",
   "metadata": {
    "collapsed": true
   },
   "source": [
    "# Non-Negative Matrix Factorization Topic Modeling Algorithm Introduction"
   ]
  },
  {
   "cell_type": "markdown",
   "metadata": {},
   "source": [
    "### Joseph Jinn and Keith VanderLinden"
   ]
  },
  {
   "cell_type": "markdown",
   "metadata": {},
   "source": [
    "This Jupyter Notebook file provides a very simple high-level overview of the NMF topic modeling algorithm.  We briefly discuss the plate notation diagram, pseudocode, and statistical formula for the model."
   ]
  },
  {
   "cell_type": "markdown",
   "metadata": {},
   "source": [
    "### Graphical Model for the NMF Algorithm:"
   ]
  },
  {
   "cell_type": "markdown",
   "metadata": {},
   "source": [
    "Note: This diagram is from a implementation of NMF that was custom-designed by a graduate student.  It isn't the Scikit-Learn implementation but the general description of how Non-negative Matrix Factorization works provided by the blog should be applicable regardless..\n",
    "\n",
    "Approximate Matrix X (data) by multiplying two smaller matrix W and H to approximately reconstruct Matrix X (data).  \n",
    "\n",
    "No element of any of these matrices can possess negative values (must be non-negative).  \n",
    "\n",
    "No element of any of these matrices can be missing."
   ]
  },
  {
   "cell_type": "markdown",
   "metadata": {},
   "source": [
    "![nmf](../images/nmf_model.png)"
   ]
  },
  {
   "cell_type": "markdown",
   "metadata": {},
   "source": [
    "Matrix $X$ is a $N \\times M$ matrix.\n",
    "\n",
    "Matrix $W$ is a $N \\times K$ matrix.\n",
    "\n",
    "Matrix $H$ is a $K \\times M$ matrix.\n",
    "\n",
    "$(N \\times K)$ $\\cdot$ $(K \\times M)$ $\\approx N \\times M$\n",
    "\n",
    "$X_{i, j}$ represents the # of times word $i$ appears in document $j$.  Therefore, Matrix $X$ is a sparse matrix."
   ]
  },
  {
   "cell_type": "markdown",
   "metadata": {},
   "source": [
    "### Statistical Formula for Calculating the NMF algorithm:"
   ]
  },
  {
   "cell_type": "markdown",
   "metadata": {},
   "source": [
    "Note: Matrix A = Matrix X (images from multiple sources using different notation).  This section details information from a blog posting where the author utilizes the Scikit-Learn NMF model so the information should be accurate as to how the statistics/mathematics work.  This is far more layman-friendly than the scholarly article itself on which Scikit-Learn bases its NMF Class on.\n",
    "\n",
    "Non-negative matrix factorization possesses a inherent clustering property that can be used for topic modeling.  According to the blog post \"Topic Modeling with LDA and NMF on the ABC News Headlines dataset\", factoring Matrix A into Matrix W and Matrix H allows the three matrices involved to represent the following information:\n",
    "\n",
    "- Matrix $A$: document-word matrix representing the input that specifies what words appear in each document in the corpus.\n",
    "\n",
    "- Matrix $W$: basic vectors representing the topics (clusters of words) extracted from the documents in the corpus.\n",
    "\n",
    "- Matrix $H$: coefficient matrix representing the membership weights for each of the topics present in each document in the corpus.\n",
    "\n",
    "Terms:\n",
    "\n",
    "Basic vectors: A vector basis of a vector space V is defined as a subset $v_{1},...,v_{n}$ of vectors in $V$ that are linearly independent and span V. \n",
    "\n",
    "Coefficient matrix: A matrix consisting of the coefficients of the variables in a set of linear equations. The matrix is used in solving systems of linear equations.\n"
   ]
  },
  {
   "cell_type": "markdown",
   "metadata": {},
   "source": [
    "<img src=\"../images/nmf_equation.png\" width=\"400px\" align=\"left\" alt=\"nmf equation\" >"
   ]
  },
  {
   "cell_type": "markdown",
   "metadata": {},
   "source": [
    "The above is the objective function that is optimized in order to calculate the values for Matrices W and H.  Matrices W and H are updated iteratively until convergence.\n",
    "\n",
    "The equation is a measure of the \"error of reconstruction between A and the product of it’s factors W and H, based on Euclidean distance\"."
   ]
  },
  {
   "cell_type": "markdown",
   "metadata": {},
   "source": [
    "<img src=\"../images/nmf_equation_2.png\" width=\"200px\" align=\"left\" alt=\"nmf equation 2\" >"
   ]
  },
  {
   "cell_type": "markdown",
   "metadata": {},
   "source": [
    "<img src=\"../images/nmf_equation_3.png\" width=\"200px\" align=\"left\" alt=\"nmf equation 3\" >"
   ]
  },
  {
   "cell_type": "markdown",
   "metadata": {},
   "source": [
    "The above are the update rules for Matrices W and H that are derived from the objective function.  The values for Matrices W and H are calculate in parallel and then used to re-calculate the error of reconstruction that is given by the objective function.  This process is repeated until convergence is reached."
   ]
  },
  {
   "cell_type": "markdown",
   "metadata": {},
   "source": [
    "### Pseudocode for the NMF algorithm:"
   ]
  },
  {
   "cell_type": "markdown",
   "metadata": {},
   "source": [
    "Pseudocode from the scholarly article linked in Scikit-Learn NMF Class documentation.  I won't pretend to understand all the notation and references to the statistics behind the algorithm."
   ]
  },
  {
   "cell_type": "markdown",
   "metadata": {},
   "source": [
    "![nmf pseudocode](../images/nmf_pseudocode.png)"
   ]
  },
  {
   "cell_type": "markdown",
   "metadata": {},
   "source": [
    "## A Simplified Non-Negative Matrix Factorization Topic Modeling Algorithm Example:"
   ]
  },
  {
   "cell_type": "markdown",
   "metadata": {},
   "source": [
    "Placeholder.\n",
    "\n",
    "**TODO - implement simple hand-worked example of one iteration through the algorithm (provided we can find an example)** "
   ]
  },
  {
   "cell_type": "markdown",
   "metadata": {},
   "source": [
    "### Completion of the FIRST iteration of the NMF algorithm:"
   ]
  },
  {
   "cell_type": "markdown",
   "metadata": {},
   "source": [
    "Rinse and repeat."
   ]
  },
  {
   "cell_type": "markdown",
   "metadata": {},
   "source": [
    "## Resources Referenced:"
   ]
  },
  {
   "cell_type": "markdown",
   "metadata": {},
   "source": [
    "- https://mlexplained.com/2017/12/28/a-practical-introduction-to-nmf-nonnegative-matrix-factorization/\n",
    "    - explanation of NMF linear algebra with example code.\n",
    "\n",
    "\n",
    "- https://medium.com/ml2vec/topic-modeling-is-an-unsupervised-learning-approach-to-clustering-documents-to-discover-topics-fdfbf30e27df\n",
    "    - another explanation of NMF mathematics with example code; used a significant portion of this explanation.\n",
    "\n",
    "\n",
    "- https://towardsdatascience.com/topic-modeling-for-the-new-york-times-news-dataset-1f643e15caac\n",
    "    - another blog article on utilizing NMF for topic modeling; used the first image.\n",
    "    \n",
    "    \n",
    "- https://en.wikipedia.org/wiki/Non-negative_matrix_factorization\n",
    "    \n",
    "\n",
    "- https://en.wikipedia.org/wiki/NP-hardness\n",
    "    - NMF is a NP-hard problem.\n",
    "    \n",
    "    \n",
    "- https://pdfs.semanticscholar.org/b5d0/36429877568a648389531e323ea0983a5148.pdf\n",
    "    - scholarly article describing NMF on short texts.\n",
    "    \n",
    "\n",
    "- https://www.cc.gatech.edu/~hpark/papers/nmf_book_chapter.pdf\n",
    "    - another article on NMF topic modeling; used the pseudocode and formulas on page 7.\n",
    "    \n",
    "    \n",
    "- http://mathworld.wolfram.com/VectorBasis.html\n",
    "    - definition of a basis vector.\n",
    "  \n",
    "  \n",
    "- https://en.wikipedia.org/wiki/Coefficient_matrix\n",
    "    - definition of a coefficient matrix.\n",
    "    \n",
    "    "
   ]
  },
  {
   "cell_type": "code",
   "execution_count": null,
   "metadata": {
    "pycharm": {
     "name": "#%%\n"
    }
   },
   "outputs": [],
   "source": []
  }
 ],
 "metadata": {
  "kernelspec": {
   "display_name": "Python 3",
   "language": "python",
   "name": "python3"
  },
  "language_info": {
   "codemirror_mode": {
    "name": "ipython",
    "version": 3
   },
   "file_extension": ".py",
   "mimetype": "text/x-python",
   "name": "python",
   "nbconvert_exporter": "python",
   "pygments_lexer": "ipython3",
   "version": "3.6.8"
  },
  "pycharm": {
   "stem_cell": {
    "cell_type": "raw",
    "metadata": {
     "collapsed": false
    },
    "source": []
   }
  }
 },
 "nbformat": 4,
 "nbformat_minor": 1
}
