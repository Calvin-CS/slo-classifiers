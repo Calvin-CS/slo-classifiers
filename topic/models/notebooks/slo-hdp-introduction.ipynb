{
 "cells": [
  {
   "cell_type": "markdown",
   "metadata": {
    "collapsed": true
   },
   "source": [
    "# Hierarchical Dirichlet Process (HDP) Topic Modeling Algorithm Introduction"
   ]
  },
  {
   "cell_type": "markdown",
   "metadata": {},
   "source": [
    "### Joseph Jinn and Keith VanderLinden"
   ]
  },
  {
   "cell_type": "markdown",
   "metadata": {},
   "source": [
    "This Jupyter Notebook file provides a very simple high-level overview of the HDP topic modeling algorithm.  We first introduce Dirichlet Process (DP) and Dirichlet Mixture Models (DMM's).  Then, we briefly discuss the plate notation diagram, pseudocode, and statistical formula for the model."
   ]
  },
  {
   "cell_type": "markdown",
   "metadata": {},
   "source": [
    "### Dirichlet Process (DP):"
   ]
  },
  {
   "cell_type": "markdown",
   "metadata": {},
   "source": [
    "Defined as a probability distribution over a range (set) of probability distributions and has two basic parameters:\n",
    "\n",
    "* Base distribution $H$ - expected value of the process obtained from the Dirichlet process of drawing distributions around the base distribution.\n",
    "<br><br>\n",
    "* Scaling (concentration) parameter $\\alpha$ -  determines how discrete the results of the Dirichlet process of drawing distributions around the base distribution are.\n",
    "    - As $\\alpha \\rightarrow \\infty$, results become continuous.\n",
    "    - As $\\alpha \\rightarrow 0$, results are concentrated at a single discrete value.\n",
    "\n",
    "<br><img src=\"../images/dirichlet_process_alpha_parameter.svg\" width=\"400\" align=\"center\" alt=\"\"><br>\n",
    "\n",
    "From top $\\rightarrow$ bottom, $\\alpha = 1, 10, 100, 1000$\n",
    "\n",
    "Can be interpreted as infinite-dimensional generalization of Dirichlet distributions, which are n-dimensional (finite).\n",
    "\n",
    "3 different primary views on DP:\n",
    "\n",
    "* Stick-breaking construction.\n",
    "\n",
    "* Chinese restaurant process/franchise.\n",
    "\n",
    "* Polya Urn:"
   ]
  },
  {
   "cell_type": "markdown",
   "metadata": {},
   "source": [
    "#### Stick-breaking construction:"
   ]
  },
  {
   "cell_type": "markdown",
   "metadata": {},
   "source": [
    "Placeholder. (all I've found is pure statistics explanations, nothing simplified like with CRF slide images below)"
   ]
  },
  {
   "cell_type": "markdown",
   "metadata": {},
   "source": [
    "#### Chinese restaurant franchise:"
   ]
  },
  {
   "cell_type": "markdown",
   "metadata": {},
   "source": [
    "Screen captures of presentation slides from one the sources referenced."
   ]
  },
  {
   "cell_type": "markdown",
   "metadata": {},
   "source": [
    "<br><img src=\"../images/chinese_restaurant_franchise_1.png\" width=\"500\" align=\"center\" alt=\"CRF 1\"><br>"
   ]
  },
  {
   "cell_type": "markdown",
   "metadata": {},
   "source": [
    "<br><img src=\"../images/chinese_restaurant_franchise_2.png\" width=\"500\" align=\"center\" alt=\"CRF 2\"><br>"
   ]
  },
  {
   "cell_type": "markdown",
   "metadata": {},
   "source": [
    "<br><img src=\"../images/chinese_restaurant_franchise_3.png\" width=\"500\" align=\"center\" alt=\"CRF 3\"><br>"
   ]
  },
  {
   "cell_type": "markdown",
   "metadata": {},
   "source": [
    "#### Polya Urn:"
   ]
  },
  {
   "cell_type": "markdown",
   "metadata": {},
   "source": [
    "According to Wikipedia:\n",
    "\n",
    "Imagine a modified Pólya urn scheme as follows. We start with an urn with $\\alpha$  black balls. When drawing a ball from the urn, if we draw a black ball, put the ball back along with a new ball of a new non-black color randomly generated from a uniform distribution over an infinite set of available colours, and consider the newly generated color to be the \"value\" of the draw. Otherwise, put the ball back along with another ball of the same color, as for the standard Pólya urn scheme. The colors of an infinite sequence of draws from this modified Pólya urn scheme follow a Chinese restaurant process. If, instead of generating a new color, we draw a random value from a given base distribution and use that value to label the ball, the labels of an infinite sequence of draws follow a Dirichlet process.\n",
    "\n",
    "<br><br>\n",
    "\n",
    "Used in the Chinese Restaurant Franchise.  CRF is essentially a two-level Polya Urn model.  According to this resource - http://www.numberjack.net/download/vvb_241_project.pdf:\n",
    "\n",
    "\n",
    "The single restaurant CRP metaphor can be extended to a multiple restaurant setting known as the Chinese Resturant Franchise (CRF). In this scenario, there are two Polya urn sampling schemes at work simultaneously : one for the tables and one for the dishes served at the tables. \n",
    "\n",
    "A customer arriving at restaurant $j$ will be seated at a table based on the same Polya-urn sampling scheme outlined above for a single restaurant CRP. However, whereas in the CRP a new distinct table always meant a new distinct dish, here another Polya urn draw is made to select the dish for a new table. In the CRF, there exists a global menu of dishes shared among all restaurants, and a new table is assigned one of the existing dishes $k$ with probability proportional to $m_{k}$, the number of tables currently serving dish $k$ over all restaurants $j = 1, ..., J$. With probability proportional to $\\Upsilon$, a new, previously unseen dish is created and assigned to the new table.\n"
   ]
  },
  {
   "cell_type": "markdown",
   "metadata": {},
   "source": [
    "### Dirichlet Process Mixture Models (DPMM) - Finite versus Infinite:"
   ]
  },
  {
   "cell_type": "markdown",
   "metadata": {},
   "source": [
    "Mixture Model:\n",
    "\n",
    "\"A probabilistic model for representing the presence of subpopulations within an overall population, without requiring that an observed data set should identify the sub-population to which an individual observation belongs. Formally a mixture model corresponds to the mixture distribution that represents the probability distribution of observations in the overall population.\" (Wikipedia)\n",
    "\n",
    "<br><br>\n",
    "\n",
    "Example as applied to topic modeling (from Wikipedia):\n",
    "\n",
    "Assume that a document is composed of N different words from a total vocabulary of size V, where each word corresponds to one of K possible topics. The distribution of such words could be modelled as a mixture of K different V-dimensional categorical distributions. A model of this sort is commonly termed a topic model. Note that expectation maximization applied to such a model will typically fail to produce realistic results, due (among other things) to the excessive number of parameters. Some sorts of additional assumptions are typically necessary to get good results. \n",
    "\n",
    "Typically two sorts of additional components are added to the model:\n",
    "\n",
    "- A prior distribution is placed over the parameters describing the topic distributions, using a Dirichlet distribution with a concentration parameter that is set significantly below 1, so as to encourage sparse distributions (where only a small number of words have significantly non-zero probabilities).\n",
    "- Some sort of additional constraint is placed over the topic identities of words, to take advantage of natural clustering.\n",
    "\n",
    "<br>\n",
    "\n",
    "For example, a Markov chain could be placed on the topic identities (i.e., the latent variables specifying the mixture component of each observation), corresponding to the fact that nearby words belong to similar topics. (This results in a hidden Markov model, specifically one where a prior distribution is placed over state transitions that favors transitions that stay in the same state.)\n",
    "\n",
    "Another possibility is the latent Dirichlet allocation model, which divides up the words into D different documents and assumes that in each document only a small number of topics occur with any frequency.\n",
    "\n",
    "<br><br>\n",
    "\n",
    "Dirichlet process is applied as a non-parametric prior on the parameters of a mixture model.\n",
    "\n",
    "Parametric models:\n",
    "\n",
    "* Finite + fixed # of parameters.\n",
    "* the # of parameters independent of dataset.\n",
    "\n",
    "Non-parameteric models:\n",
    "\n",
    "* Infinite + random # of parameters.\n",
    "* the # of parameters can grow with dataset."
   ]
  },
  {
   "cell_type": "markdown",
   "metadata": {},
   "source": [
    "<br><img src=\"../images/dirichlet_process_finite_mixture_model.png\" width=\"500\" align=\"center\" alt=\"DPMM\"><br>"
   ]
  },
  {
   "cell_type": "markdown",
   "metadata": {},
   "source": [
    "<br><img src=\"../images/dirichlet_process_infinite_mixture_model.png\" width=\"500\" align=\"center\" alt=\"DPMM Alt.\"><br>"
   ]
  },
  {
   "cell_type": "markdown",
   "metadata": {},
   "source": [
    "### Hierarchical Dirichlet Process Mixture Models (HDPMM):"
   ]
  },
  {
   "cell_type": "markdown",
   "metadata": {},
   "source": [
    "Plate notation diagrams of HDPMM"
   ]
  },
  {
   "cell_type": "markdown",
   "metadata": {},
   "source": [
    "<br><img src=\"../images/hierarchical_dirichlet_process_mixture_model_1.png\" width=\"500\" align=\"center\" alt=\"HDPMM\"><br>"
   ]
  },
  {
   "cell_type": "markdown",
   "metadata": {},
   "source": [
    "<br><img src=\"../images/hierarchical_dirichlet_process_mixture_model_2.png\" width=\"500\" align=\"center\" alt=\"HDPMM Alt.\"><br>"
   ]
  },
  {
   "cell_type": "markdown",
   "metadata": {},
   "source": [
    "### Pseudocode for the HDP algorithm?:"
   ]
  },
  {
   "cell_type": "markdown",
   "metadata": {},
   "source": [
    "Online variational inference algorithm for the Gensim HDP topic model obtained from the linked article."
   ]
  },
  {
   "cell_type": "markdown",
   "metadata": {},
   "source": [
    "<br><img src=\"../images/hdp_pseudocode.png\" width=\"450\" align=\"center\" alt=\"HDP Pseudocode\"><br>"
   ]
  },
  {
   "cell_type": "markdown",
   "metadata": {},
   "source": [
    "## A Simplified Hierachical Dirichlet Process Topic Modeling Algorithm Example:"
   ]
  },
  {
   "cell_type": "markdown",
   "metadata": {},
   "source": [
    "Placeholder.\n",
    "\n",
    "**TODO - implement simple hand-worked example of one iteration through the algorithm (provided we can find an example)** "
   ]
  },
  {
   "cell_type": "markdown",
   "metadata": {},
   "source": [
    "### Completion of the FIRST iteration of the HDP algorithm:"
   ]
  },
  {
   "cell_type": "markdown",
   "metadata": {},
   "source": [
    "Rinse and repeat."
   ]
  },
  {
   "cell_type": "markdown",
   "metadata": {},
   "source": [
    "## Resources Referenced:"
   ]
  },
  {
   "cell_type": "markdown",
   "metadata": {},
   "source": [
    "- https://en.wikipedia.org/wiki/Greek_alphabet\n",
    "    - for Greek alphabet name reference.\n",
    "\n",
    "\n",
    "- https://en.wikipedia.org/wiki/Hierarchical_Dirichlet_process\n",
    "    - used basic definition of DP's and image of $\\alpha$ parameter.\n",
    "    \n",
    "    \n",
    "- https://en.wikipedia.org/wiki/P%C3%B3lya_urn_model\n",
    "    - description of the general polya urn model.\n",
    "    \n",
    "\n",
    "- https://en.wikipedia.org/wiki/Mixture_model\n",
    "    - defines what a mixture model is in statistics and probablity theory.\n",
    "\n",
    "    \n",
    "- https://datascience.stackexchange.com/questions/128/latent-dirichlet-allocation-vs-hierarchical-dirichlet-process\n",
    "    - explains basic differences between HDP, HLDA, and LDA in a more layman friendly way.\n",
    "\n",
    "\n",
    "- https://stats.stackexchange.com/questions/135736/hierarchical-dirichlet-processes-in-topic-modeling\n",
    "    - placeholder.\n",
    "\n",
    "\n",
    "- https://www.quora.com/What-is-an-intuitive-explanation-of-Dirichlet-process-clustering-How-do-Polyas-Urn-or-Stick-Breaking-exemplify-the-Dirichlet-process-How-does-Gibbs-sampling-based-clustering-for-a-Dirichlet-mixture-model-utilize-the-Dirichlet-process\n",
    "    - explanation of Dirichlet processes using an example that implements Polya Urn, Chinese Restaurant franchies, and stick-breaking construction.\n",
    "\n",
    "\n",
    "- https://people.cs.umass.edu/~mccallum/courses/gm2011/21-dirichletprocess.pdf\n",
    "    - utilized the plate notation diagrams for the mixture models.\n",
    "    \n",
    "\n",
    "- https://www.cs.cmu.edu/~epxing/Class/10708-16/slide/lecture18-DP.pdf\n",
    "    - definition of parameteric versus non-parametric.\n",
    "    \n",
    "    \n",
    "- https://pdfs.semanticscholar.org/575d/a4bcfd934bce583e8fc8fca1e9ee6fabbae3.pdf\n",
    "    - the Chinese Restaurant franchise.\n",
    "    "
   ]
  },
  {
   "cell_type": "code",
   "execution_count": null,
   "metadata": {},
   "outputs": [],
   "source": []
  }
 ],
 "metadata": {
  "kernelspec": {
   "display_name": "Python 3",
   "language": "python",
   "name": "python3"
  },
  "language_info": {
   "codemirror_mode": {
    "name": "ipython",
    "version": 3
   },
   "file_extension": ".py",
   "mimetype": "text/x-python",
   "name": "python",
   "nbconvert_exporter": "python",
   "pygments_lexer": "ipython3",
   "version": "3.6.8"
  },
  "pycharm": {
   "stem_cell": {
    "cell_type": "raw",
    "metadata": {
     "collapsed": false
    },
    "source": []
   }
  }
 },
 "nbformat": 4,
 "nbformat_minor": 1
}
